{
 "cells": [
  {
   "cell_type": "code",
   "execution_count": 1,
   "metadata": {
    "collapsed": true
   },
   "outputs": [],
   "source": [
    "import pandas as pd\n",
    "import sqlite3 as sq\n",
    "import surprise"
   ]
  },
  {
   "cell_type": "code",
   "execution_count": 2,
   "metadata": {
    "collapsed": false
   },
   "outputs": [],
   "source": [
    "#Set up data\n",
    "path = '/db/wrangled_reviews.db'\n",
    "def import_data(db_path):\n",
    "    conn = sq.connect(db_path) #sqliteDB path goes in parantheses\n",
    "    crsr = conn.cursor()\n",
    "\n",
    "    df = pd.read_sql_query('''\n",
    "                SELECT *\n",
    "                FROM trunc_books\n",
    "                ;\n",
    "                ''', conn)\n",
    "\n",
    "    df['star_rating'] = df['star_rating'].astype(float)\n",
    "    df['star_rating'] = df['star_rating'].astype(int) #convert rating to integer type\n",
    "    df['helpful_votes'] = df['helpful_votes'].astype(int) #convert rating to integer type\n",
    "\n",
    "    df['review_body'] = df['review_body'].astype(str) #convert to str\n",
    "    df['review_headline'] = df['review_headline'].astype(str) #convert to str\n",
    "    \n",
    "\n",
    "    return df\n",
    "\n",
    "df = import_data(path)"
   ]
  },
  {
   "cell_type": "code",
   "execution_count": 3,
   "metadata": {
    "collapsed": false
   },
   "outputs": [
    {
     "data": {
      "text/html": [
       "<div>\n",
       "<table border=\"1\" class=\"dataframe\">\n",
       "  <thead>\n",
       "    <tr style=\"text-align: right;\">\n",
       "      <th></th>\n",
       "      <th>customer_id</th>\n",
       "      <th>product_id</th>\n",
       "      <th>product_parent</th>\n",
       "      <th>star_rating</th>\n",
       "      <th>helpful_votes</th>\n",
       "      <th>review_headline</th>\n",
       "      <th>review_body</th>\n",
       "      <th>product_category</th>\n",
       "      <th>marketplace</th>\n",
       "      <th>review_date</th>\n",
       "      <th>verified_purchase</th>\n",
       "    </tr>\n",
       "  </thead>\n",
       "  <tbody>\n",
       "    <tr>\n",
       "      <th>0</th>\n",
       "      <td>40676812</td>\n",
       "      <td>1938067126</td>\n",
       "      <td>402004849</td>\n",
       "      <td>5</td>\n",
       "      <td>0</td>\n",
       "      <td>Five Stars</td>\n",
       "      <td>Excellent--</td>\n",
       "      <td>Books</td>\n",
       "      <td>US</td>\n",
       "      <td>2015-08-31</td>\n",
       "      <td>Y</td>\n",
       "    </tr>\n",
       "    <tr>\n",
       "      <th>1</th>\n",
       "      <td>2784618</td>\n",
       "      <td>014017737X</td>\n",
       "      <td>779170984</td>\n",
       "      <td>5</td>\n",
       "      <td>0</td>\n",
       "      <td>Five Stars</td>\n",
       "      <td>Arrived before estimated delivery date, just a...</td>\n",
       "      <td>Books</td>\n",
       "      <td>US</td>\n",
       "      <td>2015-08-31</td>\n",
       "      <td>Y</td>\n",
       "    </tr>\n",
       "    <tr>\n",
       "      <th>2</th>\n",
       "      <td>2876528</td>\n",
       "      <td>0982207743</td>\n",
       "      <td>225126623</td>\n",
       "      <td>3</td>\n",
       "      <td>1</td>\n",
       "      <td>Three Stars</td>\n",
       "      <td>Recipes are not complicated, but ingredients a...</td>\n",
       "      <td>Books</td>\n",
       "      <td>US</td>\n",
       "      <td>2015-08-31</td>\n",
       "      <td>Y</td>\n",
       "    </tr>\n",
       "    <tr>\n",
       "      <th>3</th>\n",
       "      <td>33678379</td>\n",
       "      <td>080072433X</td>\n",
       "      <td>42136245</td>\n",
       "      <td>3</td>\n",
       "      <td>0</td>\n",
       "      <td>Hard to Get Into</td>\n",
       "      <td>This book I actually had a hard time with. I p...</td>\n",
       "      <td>Books</td>\n",
       "      <td>US</td>\n",
       "      <td>2015-08-31</td>\n",
       "      <td>N</td>\n",
       "    </tr>\n",
       "    <tr>\n",
       "      <th>4</th>\n",
       "      <td>32159651</td>\n",
       "      <td>0615815650</td>\n",
       "      <td>625464646</td>\n",
       "      <td>3</td>\n",
       "      <td>1</td>\n",
       "      <td>Run of the mill</td>\n",
       "      <td>I've read quite a few books about persuasion p...</td>\n",
       "      <td>Books</td>\n",
       "      <td>US</td>\n",
       "      <td>2015-08-31</td>\n",
       "      <td>Y</td>\n",
       "    </tr>\n",
       "  </tbody>\n",
       "</table>\n",
       "</div>"
      ],
      "text/plain": [
       "   customer_id  product_id  product_parent  star_rating  helpful_votes  \\\n",
       "0     40676812  1938067126       402004849            5              0   \n",
       "1      2784618  014017737X       779170984            5              0   \n",
       "2      2876528  0982207743       225126623            3              1   \n",
       "3     33678379  080072433X        42136245            3              0   \n",
       "4     32159651  0615815650       625464646            3              1   \n",
       "\n",
       "    review_headline                                        review_body  \\\n",
       "0        Five Stars                                        Excellent--   \n",
       "1        Five Stars  Arrived before estimated delivery date, just a...   \n",
       "2       Three Stars  Recipes are not complicated, but ingredients a...   \n",
       "3  Hard to Get Into  This book I actually had a hard time with. I p...   \n",
       "4   Run of the mill  I've read quite a few books about persuasion p...   \n",
       "\n",
       "  product_category marketplace review_date verified_purchase  \n",
       "0            Books          US  2015-08-31                 Y  \n",
       "1            Books          US  2015-08-31                 Y  \n",
       "2            Books          US  2015-08-31                 Y  \n",
       "3            Books          US  2015-08-31                 N  \n",
       "4            Books          US  2015-08-31                 Y  "
      ]
     },
     "execution_count": 3,
     "metadata": {},
     "output_type": "execute_result"
    }
   ],
   "source": [
    "df.head(5)\n",
    "#len(df)\n",
    "#df.dtypes"
   ]
  },
  {
   "cell_type": "code",
   "execution_count": 4,
   "metadata": {
    "collapsed": false
   },
   "outputs": [],
   "source": [
    "def count_words(data):\n",
    "   words = data.split(\" \")\n",
    "   num_words = len(words)\n",
    "   return num_words\n",
    "\n",
    "df['review_word_count']=0\n",
    "df['review_hl_count']=0\n",
    "\n",
    "df['review_word_count'] = df['review_body'].map(count_words)\n",
    "df['review_hl_count'] = df['review_headline'].map(count_words)\n"
   ]
  },
  {
   "cell_type": "markdown",
   "metadata": {},
   "source": [
    "Add in Sentiment Analysis"
   ]
  },
  {
   "cell_type": "code",
   "execution_count": 4,
   "metadata": {
    "collapsed": true
   },
   "outputs": [],
   "source": [
    "from textblob import TextBlob\n",
    "from numpy import interp"
   ]
  },
  {
   "cell_type": "code",
   "execution_count": 5,
   "metadata": {
    "collapsed": true
   },
   "outputs": [],
   "source": [
    "def sentiment(row):\n",
    "    try:\n",
    "        #raw text of review\n",
    "        blob = TextBlob(row['review_body'])\n",
    "        #sentiment polarity score\n",
    "        polarity = blob.sentiment.polarity\n",
    "        score = interp(polarity, [-1,1], [1,5])\n",
    "        return score\n",
    "    except:\n",
    "        pass"
   ]
  },
  {
   "cell_type": "code",
   "execution_count": 8,
   "metadata": {
    "collapsed": true
   },
   "outputs": [],
   "source": [
    "def clean_sentiment(row):\n",
    "    try:\n",
    "        import string\n",
    "        from nltk.corpus import stopwords\n",
    "\n",
    "        #split raw text of review into tokens\n",
    "        words= row['review_body']\n",
    "        tokens = words.split()\n",
    "\n",
    "        # remove punctuation from each token\n",
    "        table = str.maketrans('', '', string.punctuation)\n",
    "        tokens = [w.translate(table) for w in tokens]\n",
    "\n",
    "        #remove tokens that are not alphabetic\n",
    "        tokens = [word for word in tokens if word.isalpha()]\n",
    "\n",
    "        # filter out stop words\n",
    "        stop_words = set(stopwords.words('english'))\n",
    "        tokens = [w for w in tokens if not w in stop_words]\n",
    "\n",
    "        #convert this list to a string\n",
    "        blob = ' '.join(tokens)\n",
    "\n",
    "        #find sentiment of new string and convert to 1-5 scale\n",
    "        blob = TextBlob(blob)\n",
    "        polarity = blob.sentiment.polarity\n",
    "        score = interp(polarity, [-1,1], [1,5])\n",
    "        return score\n",
    "    except:\n",
    "        pass"
   ]
  },
  {
   "cell_type": "code",
   "execution_count": 9,
   "metadata": {
    "collapsed": false
   },
   "outputs": [
    {
     "data": {
      "text/plain": [
       "3.0"
      ]
     },
     "execution_count": 9,
     "metadata": {},
     "output_type": "execute_result"
    }
   ],
   "source": [
    "clean_sentiment(df.loc[1])"
   ]
  },
  {
   "cell_type": "code",
   "execution_count": 10,
   "metadata": {
    "collapsed": false
   },
   "outputs": [],
   "source": [
    "df['sentiment_star_rating'] = df.apply(sentiment,axis=1)\n",
    "df['cleaned_sentiment_star_rating'] = df.apply(clean_sentiment,axis=1)\n",
    "df['star_rating']=df['star_rating'].astype(float)\n",
    "df['difference'] = abs(df['star_rating'] - df['cleaned_sentiment_star_rating'])\n"
   ]
  },
  {
   "cell_type": "code",
   "execution_count": 11,
   "metadata": {
    "collapsed": false
   },
   "outputs": [
    {
     "data": {
      "text/html": [
       "<div>\n",
       "<table border=\"1\" class=\"dataframe\">\n",
       "  <thead>\n",
       "    <tr style=\"text-align: right;\">\n",
       "      <th></th>\n",
       "      <th>customer_id</th>\n",
       "      <th>product_id</th>\n",
       "      <th>product_parent</th>\n",
       "      <th>star_rating</th>\n",
       "      <th>helpful_votes</th>\n",
       "      <th>review_headline</th>\n",
       "      <th>review_body</th>\n",
       "      <th>product_category</th>\n",
       "      <th>marketplace</th>\n",
       "      <th>review_date</th>\n",
       "      <th>verified_purchase</th>\n",
       "      <th>sentiment_star_rating</th>\n",
       "      <th>cleaned_sentiment_star_rating</th>\n",
       "      <th>difference</th>\n",
       "    </tr>\n",
       "  </thead>\n",
       "  <tbody>\n",
       "    <tr>\n",
       "      <th>0</th>\n",
       "      <td>40676812</td>\n",
       "      <td>1938067126</td>\n",
       "      <td>402004849</td>\n",
       "      <td>5.0</td>\n",
       "      <td>0</td>\n",
       "      <td>Five Stars</td>\n",
       "      <td>Excellent--</td>\n",
       "      <td>Books</td>\n",
       "      <td>US</td>\n",
       "      <td>2015-08-31</td>\n",
       "      <td>Y</td>\n",
       "      <td>5.000000</td>\n",
       "      <td>5.000000</td>\n",
       "      <td>0.000000</td>\n",
       "    </tr>\n",
       "    <tr>\n",
       "      <th>1</th>\n",
       "      <td>2784618</td>\n",
       "      <td>014017737X</td>\n",
       "      <td>779170984</td>\n",
       "      <td>5.0</td>\n",
       "      <td>0</td>\n",
       "      <td>Five Stars</td>\n",
       "      <td>Arrived before estimated delivery date, just a...</td>\n",
       "      <td>Books</td>\n",
       "      <td>US</td>\n",
       "      <td>2015-08-31</td>\n",
       "      <td>Y</td>\n",
       "      <td>3.000000</td>\n",
       "      <td>3.000000</td>\n",
       "      <td>2.000000</td>\n",
       "    </tr>\n",
       "    <tr>\n",
       "      <th>2</th>\n",
       "      <td>2876528</td>\n",
       "      <td>0982207743</td>\n",
       "      <td>225126623</td>\n",
       "      <td>3.0</td>\n",
       "      <td>1</td>\n",
       "      <td>Three Stars</td>\n",
       "      <td>Recipes are not complicated, but ingredients a...</td>\n",
       "      <td>Books</td>\n",
       "      <td>US</td>\n",
       "      <td>2015-08-31</td>\n",
       "      <td>Y</td>\n",
       "      <td>3.500000</td>\n",
       "      <td>2.000000</td>\n",
       "      <td>1.000000</td>\n",
       "    </tr>\n",
       "    <tr>\n",
       "      <th>3</th>\n",
       "      <td>33678379</td>\n",
       "      <td>080072433X</td>\n",
       "      <td>42136245</td>\n",
       "      <td>3.0</td>\n",
       "      <td>0</td>\n",
       "      <td>Hard to Get Into</td>\n",
       "      <td>This book I actually had a hard time with. I p...</td>\n",
       "      <td>Books</td>\n",
       "      <td>US</td>\n",
       "      <td>2015-08-31</td>\n",
       "      <td>N</td>\n",
       "      <td>3.076869</td>\n",
       "      <td>3.009420</td>\n",
       "      <td>0.009420</td>\n",
       "    </tr>\n",
       "    <tr>\n",
       "      <th>4</th>\n",
       "      <td>32159651</td>\n",
       "      <td>0615815650</td>\n",
       "      <td>625464646</td>\n",
       "      <td>3.0</td>\n",
       "      <td>1</td>\n",
       "      <td>Run of the mill</td>\n",
       "      <td>I've read quite a few books about persuasion p...</td>\n",
       "      <td>Books</td>\n",
       "      <td>US</td>\n",
       "      <td>2015-08-31</td>\n",
       "      <td>Y</td>\n",
       "      <td>2.624242</td>\n",
       "      <td>2.636364</td>\n",
       "      <td>0.363636</td>\n",
       "    </tr>\n",
       "  </tbody>\n",
       "</table>\n",
       "</div>"
      ],
      "text/plain": [
       "   customer_id  product_id  product_parent  star_rating  helpful_votes  \\\n",
       "0     40676812  1938067126       402004849          5.0              0   \n",
       "1      2784618  014017737X       779170984          5.0              0   \n",
       "2      2876528  0982207743       225126623          3.0              1   \n",
       "3     33678379  080072433X        42136245          3.0              0   \n",
       "4     32159651  0615815650       625464646          3.0              1   \n",
       "\n",
       "    review_headline                                        review_body  \\\n",
       "0        Five Stars                                        Excellent--   \n",
       "1        Five Stars  Arrived before estimated delivery date, just a...   \n",
       "2       Three Stars  Recipes are not complicated, but ingredients a...   \n",
       "3  Hard to Get Into  This book I actually had a hard time with. I p...   \n",
       "4   Run of the mill  I've read quite a few books about persuasion p...   \n",
       "\n",
       "  product_category marketplace review_date verified_purchase  \\\n",
       "0            Books          US  2015-08-31                 Y   \n",
       "1            Books          US  2015-08-31                 Y   \n",
       "2            Books          US  2015-08-31                 Y   \n",
       "3            Books          US  2015-08-31                 N   \n",
       "4            Books          US  2015-08-31                 Y   \n",
       "\n",
       "   sentiment_star_rating  cleaned_sentiment_star_rating  difference  \n",
       "0               5.000000                       5.000000    0.000000  \n",
       "1               3.000000                       3.000000    2.000000  \n",
       "2               3.500000                       2.000000    1.000000  \n",
       "3               3.076869                       3.009420    0.009420  \n",
       "4               2.624242                       2.636364    0.363636  "
      ]
     },
     "execution_count": 11,
     "metadata": {},
     "output_type": "execute_result"
    }
   ],
   "source": [
    "df.head(5)"
   ]
  },
  {
   "cell_type": "code",
   "execution_count": 12,
   "metadata": {
    "collapsed": false
   },
   "outputs": [
    {
     "data": {
      "text/plain": [
       "0.29912622075101331"
      ]
     },
     "execution_count": 12,
     "metadata": {},
     "output_type": "execute_result"
    }
   ],
   "source": [
    "df['sentiment_star_rating'].corr(df['star_rating'])"
   ]
  },
  {
   "cell_type": "code",
   "execution_count": 13,
   "metadata": {
    "collapsed": false
   },
   "outputs": [
    {
     "data": {
      "text/plain": [
       "0.29656177100914144"
      ]
     },
     "execution_count": 13,
     "metadata": {},
     "output_type": "execute_result"
    }
   ],
   "source": [
    "df['cleaned_sentiment_star_rating'].corr(df['star_rating'])"
   ]
  },
  {
   "cell_type": "code",
   "execution_count": 28,
   "metadata": {
    "collapsed": false
   },
   "outputs": [
    {
     "data": {
      "text/html": [
       "<div>\n",
       "<table border=\"1\" class=\"dataframe\">\n",
       "  <thead>\n",
       "    <tr style=\"text-align: right;\">\n",
       "      <th></th>\n",
       "      <th>customer_id</th>\n",
       "      <th>product_parent</th>\n",
       "      <th>star_rating</th>\n",
       "      <th>helpful_votes</th>\n",
       "      <th>sentiment_star_rating</th>\n",
       "      <th>cleaned_sentiment_star_rating</th>\n",
       "      <th>difference</th>\n",
       "    </tr>\n",
       "  </thead>\n",
       "  <tbody>\n",
       "    <tr>\n",
       "      <th>count</th>\n",
       "      <td>2.686490e+05</td>\n",
       "      <td>2.686490e+05</td>\n",
       "      <td>268649.000000</td>\n",
       "      <td>268649.000000</td>\n",
       "      <td>268649.000000</td>\n",
       "      <td>268649.000000</td>\n",
       "      <td>268649.000000</td>\n",
       "    </tr>\n",
       "    <tr>\n",
       "      <th>mean</th>\n",
       "      <td>3.455033e+07</td>\n",
       "      <td>4.974110e+08</td>\n",
       "      <td>4.265216</td>\n",
       "      <td>3.417292</td>\n",
       "      <td>3.429184</td>\n",
       "      <td>3.420053</td>\n",
       "      <td>1.083261</td>\n",
       "    </tr>\n",
       "    <tr>\n",
       "      <th>std</th>\n",
       "      <td>1.466983e+07</td>\n",
       "      <td>2.881033e+08</td>\n",
       "      <td>0.938062</td>\n",
       "      <td>22.510680</td>\n",
       "      <td>0.382828</td>\n",
       "      <td>0.385113</td>\n",
       "      <td>0.595689</td>\n",
       "    </tr>\n",
       "    <tr>\n",
       "      <th>min</th>\n",
       "      <td>9.653300e+04</td>\n",
       "      <td>8.165000e+03</td>\n",
       "      <td>1.000000</td>\n",
       "      <td>0.000000</td>\n",
       "      <td>1.000000</td>\n",
       "      <td>1.000000</td>\n",
       "      <td>0.000000</td>\n",
       "    </tr>\n",
       "    <tr>\n",
       "      <th>25%</th>\n",
       "      <td>2.104289e+07</td>\n",
       "      <td>2.508276e+08</td>\n",
       "      <td>4.000000</td>\n",
       "      <td>0.000000</td>\n",
       "      <td>3.210777</td>\n",
       "      <td>3.194071</td>\n",
       "      <td>0.588435</td>\n",
       "    </tr>\n",
       "    <tr>\n",
       "      <th>50%</th>\n",
       "      <td>3.669379e+07</td>\n",
       "      <td>4.945707e+08</td>\n",
       "      <td>5.000000</td>\n",
       "      <td>0.000000</td>\n",
       "      <td>3.366947</td>\n",
       "      <td>3.361004</td>\n",
       "      <td>1.063889</td>\n",
       "    </tr>\n",
       "    <tr>\n",
       "      <th>75%</th>\n",
       "      <td>4.909644e+07</td>\n",
       "      <td>7.471873e+08</td>\n",
       "      <td>5.000000</td>\n",
       "      <td>2.000000</td>\n",
       "      <td>3.554545</td>\n",
       "      <td>3.561608</td>\n",
       "      <td>1.601894</td>\n",
       "    </tr>\n",
       "    <tr>\n",
       "      <th>max</th>\n",
       "      <td>5.309639e+07</td>\n",
       "      <td>9.999913e+08</td>\n",
       "      <td>5.000000</td>\n",
       "      <td>2849.000000</td>\n",
       "      <td>5.000000</td>\n",
       "      <td>5.000000</td>\n",
       "      <td>4.000000</td>\n",
       "    </tr>\n",
       "  </tbody>\n",
       "</table>\n",
       "</div>"
      ],
      "text/plain": [
       "        customer_id  product_parent    star_rating  helpful_votes  \\\n",
       "count  2.686490e+05    2.686490e+05  268649.000000  268649.000000   \n",
       "mean   3.455033e+07    4.974110e+08       4.265216       3.417292   \n",
       "std    1.466983e+07    2.881033e+08       0.938062      22.510680   \n",
       "min    9.653300e+04    8.165000e+03       1.000000       0.000000   \n",
       "25%    2.104289e+07    2.508276e+08       4.000000       0.000000   \n",
       "50%    3.669379e+07    4.945707e+08       5.000000       0.000000   \n",
       "75%    4.909644e+07    7.471873e+08       5.000000       2.000000   \n",
       "max    5.309639e+07    9.999913e+08       5.000000    2849.000000   \n",
       "\n",
       "       sentiment_star_rating  cleaned_sentiment_star_rating     difference  \n",
       "count          268649.000000                  268649.000000  268649.000000  \n",
       "mean                3.429184                       3.420053       1.083261  \n",
       "std                 0.382828                       0.385113       0.595689  \n",
       "min                 1.000000                       1.000000       0.000000  \n",
       "25%                 3.210777                       3.194071       0.588435  \n",
       "50%                 3.366947                       3.361004       1.063889  \n",
       "75%                 3.554545                       3.561608       1.601894  \n",
       "max                 5.000000                       5.000000       4.000000  "
      ]
     },
     "execution_count": 28,
     "metadata": {},
     "output_type": "execute_result"
    }
   ],
   "source": [
    "df.describe()"
   ]
  },
  {
   "cell_type": "code",
   "execution_count": 30,
   "metadata": {
    "collapsed": false
   },
   "outputs": [
    {
     "data": {
      "image/png": "[encoded data removed]",
      "text/plain": [
       "<matplotlib.figure.Figure at 0x7f02c55e0668>"
      ]
     },
     "metadata": {},
     "output_type": "display_data"
    }
   ],
   "source": [
    "#actual star rating distribution\n",
    "import matplotlib.pyplot as plt\n",
    "dataset = df['star_rating']\n",
    "plt.hist(dataset)\n",
    "plt.show()"
   ]
  },
  {
   "cell_type": "code",
   "execution_count": 45,
   "metadata": {
    "collapsed": false
   },
   "outputs": [
    {
     "data": {
      "text/plain": [
       "82.01742794501375"
      ]
     },
     "execution_count": 45,
     "metadata": {},
     "output_type": "execute_result"
    }
   ],
   "source": [
    "##Percent of star ratings that are 4 and above\n",
    "len(df[df['star_rating']>=4.0])/len(df)*100"
   ]
  },
  {
   "cell_type": "code",
   "execution_count": 31,
   "metadata": {
    "collapsed": false
   },
   "outputs": [
    {
     "data": {
      "image/png": "[encoded data removed]",
      "text/plain": [
       "<matplotlib.figure.Figure at 0x7f02c6f6f630>"
      ]
     },
     "metadata": {},
     "output_type": "display_data"
    }
   ],
   "source": [
    "#cleaned sentiment score distribution\n",
    "dataset2 = df['cleaned_sentiment_star_rating']\n",
    "plt.hist(dataset2)\n",
    "plt.show()"
   ]
  },
  {
   "cell_type": "code",
   "execution_count": 10,
   "metadata": {
    "collapsed": false
   },
   "outputs": [
    {
     "data": {
      "text/plain": [
       "268649"
      ]
     },
     "execution_count": 10,
     "metadata": {},
     "output_type": "execute_result"
    }
   ],
   "source": [
    "len(df)"
   ]
  }
 ],
 "metadata": {
  "anaconda-cloud": {},
  "kernelspec": {
   "display_name": "Python [default]",
   "language": "python",
   "name": "python3"
  },
  "language_info": {
   "codemirror_mode": {
    "name": "ipython",
    "version": 3
   },
   "file_extension": ".py",
   "mimetype": "text/x-python",
   "name": "python",
   "nbconvert_exporter": "python",
   "pygments_lexer": "ipython3",
   "version": "3.5.4"
  }
 },
 "nbformat": 4,
 "nbformat_minor": 2
}
