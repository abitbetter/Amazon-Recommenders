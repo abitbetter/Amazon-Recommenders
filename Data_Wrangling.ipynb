{
 "cells": [
  {
   "cell_type": "code",
   "execution_count": null,
   "metadata": {},
   "outputs": [],
   "source": [
    "import pandas as pd\n",
    "import sqlite3 as sq\n",
    "import numpy as np\n",
    "import surprise\n",
    "from textblob import TextBlob\n",
    "from numpy import interp"
   ]
  },
  {
   "cell_type": "code",
   "execution_count": null,
   "metadata": {},
   "outputs": [],
   "source": [
    "def import_data(db_path):\n",
    "    conn = sq.connect(db_path) #sqliteDB path goes in parantheses\n",
    "    crsr = conn.cursor()\n",
    "\n",
    "    df = pd.read_sql_query('''\n",
    "                SELECT *\n",
    "                FROM trunc_books\n",
    "                ;\n",
    "                ''', conn)\n",
    "\n",
    "    df['star_rating'] = df['star_rating'].astype(float)\n",
    "    df['star_rating'] = df['star_rating'].astype(int) #convert rating to integer type\n",
    "    df['helpful_votes'] = df['helpful_votes'].astype(int) #convert rating to integer type\n",
    "\n",
    "    df['review_body'] = df['review_body'].astype(str) #convert to str\n",
    "    df['review_headline'] = df['review_headline'].astype(str) #convert to str\n",
    "    return df"
   ]
  },
  {
   "cell_type": "code",
   "execution_count": null,
   "metadata": {},
   "outputs": [],
   "source": [
    "def sentiment(row):\n",
    "    try:\n",
    "        #raw text of review\n",
    "        blob = TextBlob(row['review_body'])\n",
    "        #sentiment polarity score\n",
    "        polarity = blob.sentiment.polarity\n",
    "        score = interp(polarity, [-1,1], [1,5])\n",
    "        return score\n",
    "    except:\n",
    "        pass"
   ]
  },
  {
   "cell_type": "code",
   "execution_count": null,
   "metadata": {},
   "outputs": [],
   "source": [
    "def clean_sentiment(row):\n",
    "    try:\n",
    "        import string\n",
    "        from nltk.corpus import stopwords\n",
    "\n",
    "        #split raw text of review into tokens\n",
    "        words= row['review_body']\n",
    "        tokens = words.split()\n",
    "\n",
    "        # remove punctuation from each token\n",
    "        table = str.maketrans('', '', string.punctuation)\n",
    "        tokens = [w.translate(table) for w in tokens]\n",
    "\n",
    "        #remove tokens that are not alphabetic\n",
    "        tokens = [word for word in tokens if word.isalpha()]\n",
    "\n",
    "        # filter out stop words\n",
    "        stop_words = set(stopwords.words('english'))\n",
    "        tokens = [w for w in tokens if not w in stop_words]\n",
    "\n",
    "        #convert this list to a string\n",
    "        blob = ' '.join(tokens)\n",
    "\n",
    "        #find sentiment of new string and convert to 1-5 scale\n",
    "        blob = TextBlob(blob)\n",
    "        polarity = blob.sentiment.polarity\n",
    "        score = interp(polarity, [-1,1], [1,5])\n",
    "        return score\n",
    "    except:\n",
    "        pass"
   ]
  },
  {
   "cell_type": "code",
   "execution_count": null,
   "metadata": {},
   "outputs": [],
   "source": [
    "path = '/db/wrangled_reviews.db'\n",
    "df = import_data(path)"
   ]
  },
  {
   "cell_type": "code",
   "execution_count": null,
   "metadata": {},
   "outputs": [],
   "source": [
    "df['sentiment_star_rating'] = df.apply(sentiment,axis=1)\n",
    "df['cleaned_sentiment_star_rating'] = df.apply(clean_sentiment,axis=1)\n",
    "df['star_rating']=df['star_rating'].astype(float)\n",
    "df['difference'] = abs(df['star_rating'] - df['cleaned_sentiment_star_rating'])\n",
    "df['review_length'] = df['review_body'].str.count(' ') + 1\n",
    "df['headline_length'] = df['review_headline'].str.count(' ') + 1"
   ]
  }
 ],
 "metadata": {
  "kernelspec": {
   "display_name": "Python 3",
   "language": "python",
   "name": "python3"
  },
  "language_info": {
   "codemirror_mode": {
    "name": "ipython",
    "version": 3
   },
   "file_extension": ".py",
   "mimetype": "text/x-python",
   "name": "python",
   "nbconvert_exporter": "python",
   "pygments_lexer": "ipython3",
   "version": "3.6.5"
  }
 },
 "nbformat": 4,
 "nbformat_minor": 2
}
