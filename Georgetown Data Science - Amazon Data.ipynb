{
 "cells": [
  {
   "cell_type": "markdown",
   "metadata": {},
   "source": [
    "This is the data ingestion & exploration notebook. Please take note that the Explore_Amazon_Data module will read in and modify existing tables if you give it an existing table name."
   ]
  },
  {
   "cell_type": "code",
   "execution_count": null,
   "metadata": {},
   "outputs": [],
   "source": [
    "import pandas as pd\n",
    "import os \n",
    "import gzip\n",
    "import sqlite3 as sq\n",
    "import Explore_Amazon_Data as amzn  #This is our data ingestion module, please ensure that this python file is in the same folder as the Notebook."
   ]
  },
  {
   "cell_type": "markdown",
   "metadata": {},
   "source": [
    "The two cells below do two things: \n",
    "1.) Defines the three inputs into the Explore_Amazon_Data module. amazon_file_path is the location of the raw aws customer review data. db_file_path is the location of the SQLite DB. table_name defines which table the data will be dumped into.\n",
    "\n",
    "2.) Run the ingestion module to read in raw files and dump to the specified tables in the SQLite database."
   ]
  },
  {
   "cell_type": "code",
   "execution_count": null,
   "metadata": {},
   "outputs": [],
   "source": [
    "amazon_file_path = #file path of aws customer review data goes here\n",
    "db_file_path = #file path of SQLite database\n",
    "table_name = #table name to store data in SQLite database"
   ]
  },
  {
   "cell_type": "code",
   "execution_count": null,
   "metadata": {},
   "outputs": [],
   "source": [
    "#amzn.create(amazon_file_path, db_file_path, table_name)"
   ]
  },
  {
   "cell_type": "markdown",
   "metadata": {},
   "source": [
    "The below cell is the beginning of the data exploration. It sets up a connection and a cursor. You can then write SQL queries (as shown below) to pull data from the DB."
   ]
  },
  {
   "cell_type": "code",
   "execution_count": null,
   "metadata": {},
   "outputs": [],
   "source": [
    "conn = sq.connect() #sqliteDB path goes in parantheses\n",
    "crsr = conn.cursor()\n",
    "\n",
    "crsr.execute('''\n",
    "                SELECT \n",
    "                    marketplace, \n",
    "                    customer_id \n",
    "                from amazon_music_reviews LIMIT 5''')\n",
    "\n",
    "print(crsr.fetchall())"
   ]
  }
 ],
 "metadata": {
  "kernelspec": {
   "display_name": "Python 3",
   "language": "python",
   "name": "python3"
  },
  "language_info": {
   "codemirror_mode": {
    "name": "ipython",
    "version": 3
   },
   "file_extension": ".py",
   "mimetype": "text/x-python",
   "name": "python",
   "nbconvert_exporter": "python",
   "pygments_lexer": "ipython3",
   "version": "3.6.5"
  }
 },
 "nbformat": 4,
 "nbformat_minor": 2
}
