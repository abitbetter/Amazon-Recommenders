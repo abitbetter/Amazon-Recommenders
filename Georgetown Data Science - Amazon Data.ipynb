{
 "cells": [
  {
   "cell_type": "code",
   "execution_count": 29,
   "metadata": {},
   "outputs": [],
   "source": [
    "import pandas as pd\n",
    "import numpy as np\n",
    "import os \n",
    "import gzip\n",
    "import sqlite3 as sq"
   ]
  },
  {
   "cell_type": "code",
   "execution_count": 32,
   "metadata": {},
   "outputs": [
    {
     "name": "stdout",
     "output_type": "stream",
     "text": [
      "  marketplace customer_id       review_id  product_id  \\\n",
      "1          US    45610553   RMDCHWD0Y5OZ9  B00HH62VB6   \n",
      "2          US    14640079   RZSL0BALIYUNU  B003LRN53I   \n",
      "3          US     6111003   RIZR67JKUDBI0  B0006VMBHI   \n",
      "4          US     1546619  R27HL570VNL85F  B002B55TRG   \n",
      "\n",
      "                                       product_title star_rating  \\\n",
      "1  AGPtek® 10 Isolated Output 9V 12V 18V Guitar P...           3   \n",
      "2         Sennheiser HD203 Closed-Back DJ Headphones           5   \n",
      "3                   AudioQuest LP record clean brush           3   \n",
      "4      Hohner Inc. 560BX-BF Special Twenty Harmonica           5   \n",
      "\n",
      "                                         review_body  \n",
      "1        Works very good, but induces ALOT of noise.  \n",
      "2             Nice headphones at a reasonable price.  \n",
      "3                       removes dust. does not clean  \n",
      "4  I purchase these for a friend in return for pl...  \n",
      "Index(['marketplace', 'customer_id', 'review_id', 'product_id',\n",
      "       'product_title', 'star_rating', 'review_body'],\n",
      "      dtype='object')\n"
     ]
    }
   ],
   "source": [
    "conn = sq.connect('C:/users/arjun/OneDrive/Desktop/amazon.db') #sqliteDB path goes here\n",
    "crsr = conn.cursor()\n",
    "\n",
    "crsr.execute(\"SELECT DISTINCT marketplace, customer_id, review_id, product_id, product_title, star_rating, review_body FROM music LIMIT 5\")\n",
    "\n",
    "results = crsr.fetchall()\n",
    "headers = results[0]\n",
    "\n",
    "df = pd.DataFrame(results, columns=headers)\n",
    "df = df.iloc[1:]\n",
    "\n",
    "print(df)\n",
    "print(df.columns)\n",
    "\n",
    "conn.commit()\n",
    "conn.close()"
   ]
  }
 ],
 "metadata": {
  "kernelspec": {
   "display_name": "Python 3",
   "language": "python",
   "name": "python3"
  },
  "language_info": {
   "codemirror_mode": {
    "name": "ipython",
    "version": 3
   },
   "file_extension": ".py",
   "mimetype": "text/x-python",
   "name": "python",
   "nbconvert_exporter": "python",
   "pygments_lexer": "ipython3",
   "version": "3.6.5"
  }
 },
 "nbformat": 4,
 "nbformat_minor": 2
}
