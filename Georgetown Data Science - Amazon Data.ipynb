{
 "cells": [
  {
   "cell_type": "markdown",
   "metadata": {},
   "source": [
    "This is the data ingestion & exploration notebook. Please take note that the Explore_Amazon_Data module will read in and modify existing tables if you give it an existing table name."
   ]
  },
  {
   "cell_type": "code",
   "execution_count": null,
   "metadata": {},
   "outputs": [],
   "source": [
    "import pandas as pd\n",
    "import os \n",
    "import gzip\n",
    "import sqlite3 as sq\n",
    "import Explore_Amazon_Data as amzn  #This is our data ingestion module, please ensure that this python file is in the same folder as the Notebook.\n",
    "import matplotlib as mpl"
   ]
  },
  {
   "cell_type": "markdown",
   "metadata": {},
   "source": [
    "The two cells below do two things: \n",
    "1.) Defines the three inputs into the Explore_Amazon_Data module. amazon_file_path is the location of the raw aws customer review data. db_file_path is the location of the SQLite DB. table_name defines which table the data will be dumped into.\n",
    "\n",
    "2.) Run the ingestion module to read in raw files and dump to the specified tables in the SQLite database."
   ]
  },
  {
   "cell_type": "code",
   "execution_count": null,
   "metadata": {},
   "outputs": [],
   "source": [
    "#amazon_file_path = #file path of aws customer review data goes here\n",
    "#db_file_path = #file path of SQLite database\n",
    "#table_name = #table name to store data in SQLite database"
   ]
  },
  {
   "cell_type": "code",
   "execution_count": null,
   "metadata": {},
   "outputs": [],
   "source": [
    "#amzn.create(amazon_file_path, db_file_path, table_name)"
   ]
  },
  {
   "cell_type": "markdown",
   "metadata": {},
   "source": [
    "The below cell is the beginning of the data exploration. It sets up a connection and a cursor. You can then write SQL queries (as shown below) to pull data from the DB."
   ]
  },
  {
   "cell_type": "code",
   "execution_count": null,
   "metadata": {},
   "outputs": [],
   "source": [
    "conn = sq.connect('C:/Users/arjun/Desktop/amazon.db') #sqliteDB path goes in parantheses\n",
    "crsr = conn.cursor()\n",
    "\n",
    "df = pd.read_sql_query('''\n",
    "                SELECT DISTINCT *\n",
    "                from amazon_music_reviews LIMIT 1''', conn)\n",
    "\n",
    "print(df)"
   ]
  },
  {
   "cell_type": "markdown",
   "metadata": {},
   "source": [
    "DATA COLUMNS & DESCRIPTIONS:\n",
    "\n",
    "marketplace       - 2 letter country code of the marketplace where the review was written.\n",
    "customer_id       - Random identifier that can be used to aggregate reviews written by a single author.\n",
    "review_id         - The unique ID of the review.\n",
    "product_id        - The unique Product ID the review pertains to. In the multilingual dataset the reviews\n",
    "                    for the same product in different countries can be grouped by the same product_id.\n",
    "product_parent    - Random identifier that can be used to aggregate reviews for the same product.\n",
    "product_title     - Title of the product.\n",
    "product_category  - Broad product category that can be used to group reviews \n",
    "                    (also used to group the dataset into coherent parts).\n",
    "star_rating       - The 1-5 star rating of the review.\n",
    "helpful_votes     - Number of helpful votes.\n",
    "total_votes       - Number of total votes the review received.\n",
    "vine              - Review was written as part of the Vine program.\n",
    "verified_purchase - The review is on a verified purchase.\n",
    "review_headline   - The title of the review.\n",
    "review_body       - The review text.\n",
    "review_date       - The date the review was written."
   ]
  },
  {
   "cell_type": "code",
   "execution_count": null,
   "metadata": {},
   "outputs": [],
   "source": [
    "#This cell checks for the count of NULLs per column. Highest NULL count is 202 NULL values for column review_headline.\n",
    "\n",
    "null_counts = pd.read_sql_query('''\n",
    "                        SELECT \n",
    "                            COUNT(*) - COUNT(marketplace) as marketplace_null_count,\n",
    "                            COUNT(*) - COUNT(customer_id) as customer_id_null_count,\n",
    "                            COUNT(*) - COUNT(review_id) as review_id_null_count,\n",
    "                            COUNT(*) - COUNT(product_id) as product_id_null_count,\n",
    "                            COUNT(*) - COUNT(product_parent) as product_parent_null_count,\n",
    "                            COUNT(*) - COUNT(product_title) as product_title_null_count,\n",
    "                            COUNT(*) - COUNT(product_category) as product_category_null_count,\n",
    "                            COUNT(*) - COUNT(star_rating) as star_rating_null_count,\n",
    "                            COUNT(*) - COUNT(helpful_votes) as helpful_votes_null_count,\n",
    "                            COUNT(*) - COUNT(total_votes) as total_votes_null_count,\n",
    "                            COUNT(*) - COUNT(vine) as vine_null_count,\n",
    "                            COUNT(*) - COUNT(verified_purchase) as verified_purchase_null_count,\n",
    "                            COUNT(*) - COUNT(review_headline) as review_headline_null_count\n",
    "                        FROM\n",
    "                            amazon_music_reviews\n",
    "                        ''', conn)\n",
    "\n",
    "print(null_counts)"
   ]
  },
  {
   "cell_type": "code",
   "execution_count": null,
   "metadata": {},
   "outputs": [],
   "source": [
    "star_rating_df = pd.read_sql_query('''\n",
    "                                    SELECT \n",
    "                                        star_rating\n",
    "                                    FROM\n",
    "                                        amazon_music_reviews\n",
    "                                    WHERE\n",
    "                                        star_rating IS NOT NULL\n",
    "                                    ''', conn\n",
    "                                    )\n",
    "\n",
    "check = pd.to_numeric(star_rating_df.star_rating, errors='ignore')\n",
    "\n",
    "check.hist()"
   ]
  },
  {
   "cell_type": "code",
   "execution_count": null,
   "metadata": {},
   "outputs": [],
   "source": []
  }
 ],
 "metadata": {
  "kernelspec": {
   "display_name": "Python 3",
   "language": "python",
   "name": "python3"
  },
  "language_info": {
   "codemirror_mode": {
    "name": "ipython",
    "version": 3
   },
   "file_extension": ".py",
   "mimetype": "text/x-python",
   "name": "python",
   "nbconvert_exporter": "python",
   "pygments_lexer": "ipython3",
   "version": "3.6.5"
  }
 },
 "nbformat": 4,
 "nbformat_minor": 2
}
