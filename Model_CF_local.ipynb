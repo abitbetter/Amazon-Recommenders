{
 "cells": [
  {
   "cell_type": "code",
   "execution_count": 1,
   "metadata": {
    "collapsed": true,
    "scrolled": true
   },
   "outputs": [],
   "source": [
    "import pandas as pd\n",
    "import sqlite3 as sq\n",
    "import numpy as np\n",
    "import surprise"
   ]
  },
  {
   "cell_type": "markdown",
   "metadata": {},
   "source": [
    "## Import data from processed database\n"
   ]
  },
  {
   "cell_type": "code",
   "execution_count": 2,
   "metadata": {
    "collapsed": false,
    "scrolled": true
   },
   "outputs": [],
   "source": [
    "#Set up data\n",
    "path = '/db/amazon_book_reviews_final.db'\n",
    "def import_data(db_path):\n",
    "    conn = sq.connect(db_path) #sqliteDB path goes in parantheses\n",
    "    crsr = conn.cursor()\n",
    "\n",
    "    df = pd.read_sql_query('''\n",
    "                SELECT *\n",
    "                FROM processed\n",
    "                ;\n",
    "                ''', conn)\n",
    "\n",
    "    df['star_rating'] = df['star_rating'].astype(float)\n",
    "    df['star_rating'] = df['star_rating'].astype(int) #convert rating to integer type\n",
    "    df['helpful_votes'] = df['helpful_votes'].astype(int) #convert rating to integer type  \n",
    "\n",
    "\n",
    "    return df\n",
    "\n",
    "df = import_data(path)"
   ]
  },
  {
   "cell_type": "code",
   "execution_count": 3,
   "metadata": {
    "collapsed": false,
    "scrolled": true
   },
   "outputs": [
    {
     "data": {
      "text/html": [
       "<div>\n",
       "<table border=\"1\" class=\"dataframe\">\n",
       "  <thead>\n",
       "    <tr style=\"text-align: right;\">\n",
       "      <th></th>\n",
       "      <th>level_0</th>\n",
       "      <th>index</th>\n",
       "      <th>customer_id</th>\n",
       "      <th>product_id</th>\n",
       "      <th>product_title</th>\n",
       "      <th>review_body</th>\n",
       "      <th>star_rating</th>\n",
       "      <th>helpful_votes</th>\n",
       "      <th>author</th>\n",
       "      <th>book_category</th>\n",
       "      <th>product_title_length</th>\n",
       "      <th>review_body_length</th>\n",
       "      <th>cleaned_sentiment_star_rating</th>\n",
       "      <th>difference</th>\n",
       "    </tr>\n",
       "  </thead>\n",
       "  <tbody>\n",
       "    <tr>\n",
       "      <th>0</th>\n",
       "      <td>0</td>\n",
       "      <td>0</td>\n",
       "      <td>33678379</td>\n",
       "      <td>080072433X</td>\n",
       "      <td>Trial Run (Fault Lines)</td>\n",
       "      <td>This book I actually had a hard time with. I p...</td>\n",
       "      <td>3</td>\n",
       "      <td>0</td>\n",
       "      <td>Thomas Locke</td>\n",
       "      <td>None</td>\n",
       "      <td>23</td>\n",
       "      <td>1427</td>\n",
       "      <td>3.00942</td>\n",
       "      <td>0.00942</td>\n",
       "    </tr>\n",
       "    <tr>\n",
       "      <th>1</th>\n",
       "      <td>1</td>\n",
       "      <td>1</td>\n",
       "      <td>32882152</td>\n",
       "      <td>043985654X</td>\n",
       "      <td>How Do Dinosaurs Play with Their Friends?</td>\n",
       "      <td>nice book for young children</td>\n",
       "      <td>5</td>\n",
       "      <td>0</td>\n",
       "      <td>JANE YOLEN/MARK</td>\n",
       "      <td>Fiction, -, Animals</td>\n",
       "      <td>41</td>\n",
       "      <td>28</td>\n",
       "      <td>3.70000</td>\n",
       "      <td>1.30000</td>\n",
       "    </tr>\n",
       "    <tr>\n",
       "      <th>2</th>\n",
       "      <td>2</td>\n",
       "      <td>2</td>\n",
       "      <td>40676812</td>\n",
       "      <td>075700394X</td>\n",
       "      <td>Sodium Bicarbonate: Nature's Unique First Aid ...</td>\n",
       "      <td>Excellent--</td>\n",
       "      <td>5</td>\n",
       "      <td>0</td>\n",
       "      <td>Mark Sircus</td>\n",
       "      <td>Medical, Holistic, Medicine</td>\n",
       "      <td>52</td>\n",
       "      <td>11</td>\n",
       "      <td>5.00000</td>\n",
       "      <td>0.00000</td>\n",
       "    </tr>\n",
       "    <tr>\n",
       "      <th>3</th>\n",
       "      <td>3</td>\n",
       "      <td>3</td>\n",
       "      <td>14885930</td>\n",
       "      <td>0399142789</td>\n",
       "      <td>Conversations with God: An Uncommon Dialogue, ...</td>\n",
       "      <td>LOVE this book. Read before in the 90's and wa...</td>\n",
       "      <td>5</td>\n",
       "      <td>0</td>\n",
       "      <td>Neale Donald</td>\n",
       "      <td>Religious, Inspiration, New</td>\n",
       "      <td>52</td>\n",
       "      <td>137</td>\n",
       "      <td>3.50000</td>\n",
       "      <td>1.50000</td>\n",
       "    </tr>\n",
       "    <tr>\n",
       "      <th>4</th>\n",
       "      <td>4</td>\n",
       "      <td>4</td>\n",
       "      <td>14534220</td>\n",
       "      <td>1844839737</td>\n",
       "      <td>The Big Book of Juices: More Than 400 Natural ...</td>\n",
       "      <td>good</td>\n",
       "      <td>5</td>\n",
       "      <td>0</td>\n",
       "      <td>Cannot Locate</td>\n",
       "      <td>None</td>\n",
       "      <td>86</td>\n",
       "      <td>4</td>\n",
       "      <td>4.40000</td>\n",
       "      <td>0.60000</td>\n",
       "    </tr>\n",
       "  </tbody>\n",
       "</table>\n",
       "</div>"
      ],
      "text/plain": [
       "   level_0  index  customer_id  product_id  \\\n",
       "0        0      0     33678379  080072433X   \n",
       "1        1      1     32882152  043985654X   \n",
       "2        2      2     40676812  075700394X   \n",
       "3        3      3     14885930  0399142789   \n",
       "4        4      4     14534220  1844839737   \n",
       "\n",
       "                                       product_title  \\\n",
       "0                            Trial Run (Fault Lines)   \n",
       "1          How Do Dinosaurs Play with Their Friends?   \n",
       "2  Sodium Bicarbonate: Nature's Unique First Aid ...   \n",
       "3  Conversations with God: An Uncommon Dialogue, ...   \n",
       "4  The Big Book of Juices: More Than 400 Natural ...   \n",
       "\n",
       "                                         review_body  star_rating  \\\n",
       "0  This book I actually had a hard time with. I p...            3   \n",
       "1                       nice book for young children            5   \n",
       "2                                        Excellent--            5   \n",
       "3  LOVE this book. Read before in the 90's and wa...            5   \n",
       "4                                               good            5   \n",
       "\n",
       "   helpful_votes           author                book_category  \\\n",
       "0              0     Thomas Locke                         None   \n",
       "1              0  JANE YOLEN/MARK          Fiction, -, Animals   \n",
       "2              0      Mark Sircus  Medical, Holistic, Medicine   \n",
       "3              0     Neale Donald  Religious, Inspiration, New   \n",
       "4              0    Cannot Locate                         None   \n",
       "\n",
       "   product_title_length  review_body_length  cleaned_sentiment_star_rating  \\\n",
       "0                    23                1427                        3.00942   \n",
       "1                    41                  28                        3.70000   \n",
       "2                    52                  11                        5.00000   \n",
       "3                    52                 137                        3.50000   \n",
       "4                    86                   4                        4.40000   \n",
       "\n",
       "   difference  \n",
       "0     0.00942  \n",
       "1     1.30000  \n",
       "2     0.00000  \n",
       "3     1.50000  \n",
       "4     0.60000  "
      ]
     },
     "execution_count": 3,
     "metadata": {},
     "output_type": "execute_result"
    }
   ],
   "source": [
    "df.head(5)"
   ]
  },
  {
   "cell_type": "code",
   "execution_count": 4,
   "metadata": {
    "collapsed": false,
    "scrolled": true
   },
   "outputs": [
    {
     "data": {
      "text/plain": [
       "level_0                            int64\n",
       "index                              int64\n",
       "customer_id                        int64\n",
       "product_id                        object\n",
       "product_title                     object\n",
       "review_body                       object\n",
       "star_rating                        int64\n",
       "helpful_votes                      int64\n",
       "author                            object\n",
       "book_category                     object\n",
       "product_title_length               int64\n",
       "review_body_length                 int64\n",
       "cleaned_sentiment_star_rating    float64\n",
       "difference                       float64\n",
       "dtype: object"
      ]
     },
     "execution_count": 4,
     "metadata": {},
     "output_type": "execute_result"
    }
   ],
   "source": [
    "len(df)\n",
    "df.dtypes"
   ]
  },
  {
   "cell_type": "markdown",
   "metadata": {},
   "source": [
    "# YellowBrick Viz SKIP\n"
   ]
  },
  {
   "cell_type": "code",
   "execution_count": 10,
   "metadata": {
    "collapsed": false
   },
   "outputs": [],
   "source": [
    "num_dat = df[[\"star_rating\",\"helpful_votes\",\"product_title_length\",\"review_body_length\",\"cleaned_sentiment_star_rating\",\"difference\"]]"
   ]
  },
  {
   "cell_type": "code",
   "execution_count": 12,
   "metadata": {
    "collapsed": false,
    "scrolled": true
   },
   "outputs": [
    {
     "name": "stderr",
     "output_type": "stream",
     "text": [
      "/home/ubuntu/anaconda3/lib/python3.5/site-packages/matplotlib/font_manager.py:1297: UserWarning: findfont: Font family ['sans-serif'] not found. Falling back to DejaVu Sans\n",
      "  (prop.get_family(), self.defaultFamily[fontext]))\n"
     ]
    },
    {
     "data": {
      "image/png": "[encoded data removed]",
      "text/plain": [
       "<matplotlib.figure.Figure at 0x7ffac35b87b8>"
      ]
     },
     "metadata": {},
     "output_type": "display_data"
    }
   ],
   "source": [
    "from yellowbrick.features import Rank2D\n",
    "%matplotlib inline\n",
    "\n",
    "visualizer = Rank2D(algorithm=\"covariance\")\n",
    "visualizer.fit_transform(num_dat)\n",
    "visualizer.poof()"
   ]
  },
  {
   "cell_type": "code",
   "execution_count": 13,
   "metadata": {
    "collapsed": false,
    "scrolled": true
   },
   "outputs": [
    {
     "name": "stderr",
     "output_type": "stream",
     "text": [
      "/home/ubuntu/anaconda3/lib/python3.5/site-packages/matplotlib/font_manager.py:1297: UserWarning: findfont: Font family ['sans-serif'] not found. Falling back to DejaVu Sans\n",
      "  (prop.get_family(), self.defaultFamily[fontext]))\n"
     ]
    },
    {
     "data": {
      "image/png": "[encoded data removed]",
      "text/plain": [
       "<matplotlib.figure.Figure at 0x7ffac3bd6198>"
      ]
     },
     "metadata": {},
     "output_type": "display_data"
    }
   ],
   "source": [
    "from yellowbrick.features import JointPlotVisualizer\n",
    "\n",
    "visualizer = JointPlotVisualizer(feature='star_rating', target='difference')\n",
    "visualizer.fit(df['star_rating'], df['difference'])\n",
    "visualizer.poof()"
   ]
  },
  {
   "cell_type": "code",
   "execution_count": null,
   "metadata": {
    "collapsed": false
   },
   "outputs": [],
   "source": [
    "from yellowbrick.features import JointPlotVisualizer\n",
    "\n",
    "visualizer = JointPlotVisualizer(feature='sentiment_star_rating', target='cleaned_sentiment_star_rating')\n",
    "visualizer.fit(X_dat['sentiment_star_rating'], X_dat['cleaned_sentiment_star_rating'])\n",
    "visualizer.poof()"
   ]
  },
  {
   "cell_type": "code",
   "execution_count": null,
   "metadata": {
    "collapsed": false
   },
   "outputs": [],
   "source": [
    "from yellowbrick.features import JointPlotVisualizer\n",
    "\n",
    "visualizer = JointPlotVisualizer(feature='sentiment_star_rating', target='star_rating')\n",
    "visualizer.fit(X_dat['sentiment_star_rating'], X_dat['star_rating'])\n",
    "visualizer.poof()\n",
    "\n",
    "np.corrcoef(X_dat['sentiment_star_rating'], X_dat['star_rating'])\n"
   ]
  },
  {
   "cell_type": "code",
   "execution_count": null,
   "metadata": {
    "collapsed": false
   },
   "outputs": [],
   "source": [
    "from yellowbrick.features import JointPlotVisualizer\n",
    "\n",
    "visualizer = JointPlotVisualizer(feature='cleaned_sentiment_star_rating', target='star_rating')\n",
    "visualizer.fit(X_dat['cleaned_sentiment_star_rating'], X_dat['star_rating'])\n",
    "visualizer.poof()\n",
    "\n",
    "np.corrcoef(X_dat['cleaned_sentiment_star_rating'], X_dat['star_rating'])\n"
   ]
  },
  {
   "cell_type": "code",
   "execution_count": 15,
   "metadata": {
    "collapsed": false
   },
   "outputs": [
    {
     "name": "stderr",
     "output_type": "stream",
     "text": [
      "/home/ubuntu/anaconda3/lib/python3.5/site-packages/matplotlib/font_manager.py:1297: UserWarning: findfont: Font family ['sans-serif'] not found. Falling back to DejaVu Sans\n",
      "  (prop.get_family(), self.defaultFamily[fontext]))\n"
     ]
    },
    {
     "data": {
      "text/plain": [
       "array([[ 1.       ,  0.3781037],\n",
       "       [ 0.3781037,  1.       ]])"
      ]
     },
     "execution_count": 15,
     "metadata": {},
     "output_type": "execute_result"
    },
    {
     "data": {
      "image/png": "[encoded data removed]",
      "text/plain": [
       "<matplotlib.figure.Figure at 0x7ffac374bf60>"
      ]
     },
     "metadata": {},
     "output_type": "display_data"
    }
   ],
   "source": [
    "from yellowbrick.features import JointPlotVisualizer\n",
    "\n",
    "visualizer = JointPlotVisualizer(feature='difference', target='star_rating')\n",
    "visualizer.fit(num_dat['difference'], num_dat['star_rating'])\n",
    "visualizer.poof()\n",
    "\n",
    "np.corrcoef(num_dat['difference'], num_dat['star_rating'])"
   ]
  },
  {
   "cell_type": "markdown",
   "metadata": {},
   "source": [
    "## Clustering  SKIP"
   ]
  },
  {
   "cell_type": "code",
   "execution_count": 17,
   "metadata": {
    "collapsed": false,
    "scrolled": true
   },
   "outputs": [
    {
     "ename": "ValueError",
     "evalue": "could not convert string to float: 'Animal, Breeding, Evolution'",
     "output_type": "error",
     "traceback": [
      "\u001b[0;31m---------------------------------------------------------------------------\u001b[0m",
      "\u001b[0;31mValueError\u001b[0m                                Traceback (most recent call last)",
      "\u001b[0;32m<ipython-input-17-f18bf4992ade>\u001b[0m in \u001b[0;36m<module>\u001b[0;34m()\u001b[0m\n\u001b[1;32m      6\u001b[0m \u001b[0mvisualizer\u001b[0m \u001b[0;34m=\u001b[0m \u001b[0mKElbowVisualizer\u001b[0m\u001b[0;34m(\u001b[0m\u001b[0mMiniBatchKMeans\u001b[0m\u001b[0;34m(\u001b[0m\u001b[0;34m)\u001b[0m\u001b[0;34m,\u001b[0m \u001b[0mk\u001b[0m\u001b[0;34m=\u001b[0m\u001b[0;34m(\u001b[0m\u001b[0;36m4\u001b[0m\u001b[0;34m,\u001b[0m\u001b[0;36m12\u001b[0m\u001b[0;34m)\u001b[0m\u001b[0;34m)\u001b[0m\u001b[0;34m\u001b[0m\u001b[0m\n\u001b[1;32m      7\u001b[0m \u001b[0;34m\u001b[0m\u001b[0m\n\u001b[0;32m----> 8\u001b[0;31m \u001b[0mvisualizer\u001b[0m\u001b[0;34m.\u001b[0m\u001b[0mfit\u001b[0m\u001b[0;34m(\u001b[0m\u001b[0mdf\u001b[0m\u001b[0;34m)\u001b[0m \u001b[0;31m# Fit the training data to the visualizer\u001b[0m\u001b[0;34m\u001b[0m\u001b[0m\n\u001b[0m\u001b[1;32m      9\u001b[0m \u001b[0mvisualizer\u001b[0m\u001b[0;34m.\u001b[0m\u001b[0mpoof\u001b[0m\u001b[0;34m(\u001b[0m\u001b[0;34m)\u001b[0m \u001b[0;31m# Draw/show/poof the data\u001b[0m\u001b[0;34m\u001b[0m\u001b[0m\n",
      "\u001b[0;32m/home/ubuntu/anaconda3/lib/python3.5/site-packages/yellowbrick/cluster/elbow.py\u001b[0m in \u001b[0;36mfit\u001b[0;34m(self, X, y, **kwargs)\u001b[0m\n\u001b[1;32m    248\u001b[0m             \u001b[0;31m# Set the k value and fit the model\u001b[0m\u001b[0;34m\u001b[0m\u001b[0;34m\u001b[0m\u001b[0m\n\u001b[1;32m    249\u001b[0m             \u001b[0mself\u001b[0m\u001b[0;34m.\u001b[0m\u001b[0mestimator\u001b[0m\u001b[0;34m.\u001b[0m\u001b[0mset_params\u001b[0m\u001b[0;34m(\u001b[0m\u001b[0mn_clusters\u001b[0m\u001b[0;34m=\u001b[0m\u001b[0mk\u001b[0m\u001b[0;34m)\u001b[0m\u001b[0;34m\u001b[0m\u001b[0m\n\u001b[0;32m--> 250\u001b[0;31m             \u001b[0mself\u001b[0m\u001b[0;34m.\u001b[0m\u001b[0mestimator\u001b[0m\u001b[0;34m.\u001b[0m\u001b[0mfit\u001b[0m\u001b[0;34m(\u001b[0m\u001b[0mX\u001b[0m\u001b[0;34m)\u001b[0m\u001b[0;34m\u001b[0m\u001b[0m\n\u001b[0m\u001b[1;32m    251\u001b[0m \u001b[0;34m\u001b[0m\u001b[0m\n\u001b[1;32m    252\u001b[0m             \u001b[0;31m# Append the time and score to our plottable metrics\u001b[0m\u001b[0;34m\u001b[0m\u001b[0;34m\u001b[0m\u001b[0m\n",
      "\u001b[0;32m/home/ubuntu/anaconda3/lib/python3.5/site-packages/sklearn/cluster/k_means_.py\u001b[0m in \u001b[0;36mfit\u001b[0;34m(self, X, y)\u001b[0m\n\u001b[1;32m   1340\u001b[0m         \u001b[0mrandom_state\u001b[0m \u001b[0;34m=\u001b[0m \u001b[0mcheck_random_state\u001b[0m\u001b[0;34m(\u001b[0m\u001b[0mself\u001b[0m\u001b[0;34m.\u001b[0m\u001b[0mrandom_state\u001b[0m\u001b[0;34m)\u001b[0m\u001b[0;34m\u001b[0m\u001b[0m\n\u001b[1;32m   1341\u001b[0m         X = check_array(X, accept_sparse=\"csr\", order='C',\n\u001b[0;32m-> 1342\u001b[0;31m                         dtype=[np.float64, np.float32])\n\u001b[0m\u001b[1;32m   1343\u001b[0m         \u001b[0mn_samples\u001b[0m\u001b[0;34m,\u001b[0m \u001b[0mn_features\u001b[0m \u001b[0;34m=\u001b[0m \u001b[0mX\u001b[0m\u001b[0;34m.\u001b[0m\u001b[0mshape\u001b[0m\u001b[0;34m\u001b[0m\u001b[0m\n\u001b[1;32m   1344\u001b[0m         \u001b[0;32mif\u001b[0m \u001b[0mn_samples\u001b[0m \u001b[0;34m<\u001b[0m \u001b[0mself\u001b[0m\u001b[0;34m.\u001b[0m\u001b[0mn_clusters\u001b[0m\u001b[0;34m:\u001b[0m\u001b[0;34m\u001b[0m\u001b[0m\n",
      "\u001b[0;32m/home/ubuntu/anaconda3/lib/python3.5/site-packages/sklearn/utils/validation.py\u001b[0m in \u001b[0;36mcheck_array\u001b[0;34m(array, accept_sparse, dtype, order, copy, force_all_finite, ensure_2d, allow_nd, ensure_min_samples, ensure_min_features, warn_on_dtype, estimator)\u001b[0m\n\u001b[1;32m    400\u001b[0m                                       force_all_finite)\n\u001b[1;32m    401\u001b[0m     \u001b[0;32melse\u001b[0m\u001b[0;34m:\u001b[0m\u001b[0;34m\u001b[0m\u001b[0m\n\u001b[0;32m--> 402\u001b[0;31m         \u001b[0marray\u001b[0m \u001b[0;34m=\u001b[0m \u001b[0mnp\u001b[0m\u001b[0;34m.\u001b[0m\u001b[0marray\u001b[0m\u001b[0;34m(\u001b[0m\u001b[0marray\u001b[0m\u001b[0;34m,\u001b[0m \u001b[0mdtype\u001b[0m\u001b[0;34m=\u001b[0m\u001b[0mdtype\u001b[0m\u001b[0;34m,\u001b[0m \u001b[0morder\u001b[0m\u001b[0;34m=\u001b[0m\u001b[0morder\u001b[0m\u001b[0;34m,\u001b[0m \u001b[0mcopy\u001b[0m\u001b[0;34m=\u001b[0m\u001b[0mcopy\u001b[0m\u001b[0;34m)\u001b[0m\u001b[0;34m\u001b[0m\u001b[0m\n\u001b[0m\u001b[1;32m    403\u001b[0m \u001b[0;34m\u001b[0m\u001b[0m\n\u001b[1;32m    404\u001b[0m         \u001b[0;32mif\u001b[0m \u001b[0mensure_2d\u001b[0m\u001b[0;34m:\u001b[0m\u001b[0;34m\u001b[0m\u001b[0m\n",
      "\u001b[0;31mValueError\u001b[0m: could not convert string to float: 'Animal, Breeding, Evolution'"
     ]
    }
   ],
   "source": [
    "from sklearn.cluster import MiniBatchKMeans\n",
    "\n",
    "from yellowbrick.cluster import KElbowVisualizer\n",
    "\n",
    "# Instantiate the clustering model and visualizer\n",
    "visualizer = KElbowVisualizer(MiniBatchKMeans(), k=(4,12))\n",
    "\n",
    "visualizer.fit(df) # Fit the training data to the visualizer\n",
    "visualizer.poof() # Draw/show/poof the data"
   ]
  },
  {
   "cell_type": "code",
   "execution_count": null,
   "metadata": {
    "collapsed": true,
    "scrolled": true
   },
   "outputs": [],
   "source": [
    "from sklearn.cluster import MiniBatchKMeans\n",
    "\n",
    "from yellowbrick.cluster import SilhouetteVisualizer\n",
    "\n",
    "# Instantiate the clustering model and visualizer\n",
    "model = MiniBatchKMeans(7)\n",
    "visualizer = SilhouetteVisualizer(model)\n",
    "\n",
    "visualizer.fit(X_dat) # Fit the training data to the visualizer\n",
    "visualizer.poof() # Draw/show/poof the data"
   ]
  },
  {
   "cell_type": "markdown",
   "metadata": {},
   "source": [
    "# Modeling in Sci-Kit Learn"
   ]
  },
  {
   "cell_type": "markdown",
   "metadata": {},
   "source": [
    "### SVD "
   ]
  },
  {
   "cell_type": "code",
   "execution_count": null,
   "metadata": {
    "collapsed": false,
    "scrolled": true
   },
   "outputs": [],
   "source": [
    "from scipy.sparse import csr_matrix\n",
    "from sklearn.decomposition import TruncatedSVD\n",
    "df_pivot = df.pivot_table(index='customer_id',columns='product_id',values='star_rating',fill_value=0)\n",
    "X = df_pivot.T\n",
    "SVD = TruncatedSVD(n_components=12, random_state=17)\n",
    "matrix = SVD.fit_transform(X)\n",
    "corr = np.corrcoef(matrix)\n",
    "book_title = df_pivot.columns"
   ]
  },
  {
   "cell_type": "code",
   "execution_count": null,
   "metadata": {
    "collapsed": false
   },
   "outputs": [],
   "source": [
    "def print_recs(book_title, corr, title):\n",
    "    book_list = book_title.tolist()\n",
    "    book_title = np.asarray(book_title)\n",
    "\n",
    "    book_idx = book_list.index(title)\n",
    "    corr_target = corr[book_idx]\n",
    "    corrs = np.concatenate((book_title,corr_target),axis=0)\n",
    "\n",
    "    top_5_idx = np.argsort(corr_target)[-6:-1]\n",
    "    top_5_values = [book_title[i] for i in top_5_idx]\n",
    "    print(top_5_values)\n",
    "\n",
    "\n",
    "print_recs(book_title, corr, \"The Stand\")"
   ]
  },
  {
   "cell_type": "markdown",
   "metadata": {},
   "source": [
    "### NMF\n"
   ]
  },
  {
   "cell_type": "code",
   "execution_count": 18,
   "metadata": {
    "collapsed": false
   },
   "outputs": [],
   "source": [
    "from scipy.sparse import csr_matrix\n",
    "from sklearn.decomposition import NMF\n",
    "df_pivot = df.pivot_table(index='customer_id',columns='product_title',values='star_rating',fill_value=0)\n",
    "X = df_pivot.T\n",
    "NMFmod = NMF(n_components=12)\n",
    "matrix = NMFmod.fit_transform(X)\n",
    "corr = np.corrcoef(matrix)\n",
    "book_title = df_pivot.columns"
   ]
  },
  {
   "cell_type": "code",
   "execution_count": 19,
   "metadata": {
    "collapsed": false
   },
   "outputs": [
    {
     "name": "stdout",
     "output_type": "stream",
     "text": [
      "['The Modern Kama Sutra: The Ultimate Guide to the Secrets of Erotic Pleasure', \"Rick Steves' Italy Map: Including Rome, Florence, Venice and Siena City\", 'Handbook of United States Coins 2015: The Official Blue Book', 'The Valiant', 'Thomas & Friends Story Time Collection (Thomas & Friends)']\n"
     ]
    }
   ],
   "source": [
    "def print_recs(book_title, corr, title):\n",
    "    book_list = book_title.tolist()\n",
    "    book_title = np.asarray(book_title)\n",
    "\n",
    "    book_idx = book_list.index(title)\n",
    "    corr_target = corr[book_idx]\n",
    "    corrs = np.concatenate((book_title,corr_target),axis=0)\n",
    "\n",
    "    top_5_idx = np.argsort(corr_target)[-6:-1]\n",
    "    top_5_values = [book_title[i] for i in top_5_idx]\n",
    "    print(top_5_values)\n",
    "\n",
    "\n",
    "print_recs(book_title, corr, \"The Stand\")"
   ]
  },
  {
   "cell_type": "code",
   "execution_count": null,
   "metadata": {
    "collapsed": true
   },
   "outputs": [],
   "source": []
  },
  {
   "cell_type": "markdown",
   "metadata": {
    "collapsed": true
   },
   "source": [
    "# Modeling in LightFM\n",
    "Will allow for incorporation of product metadata!"
   ]
  },
  {
   "cell_type": "code",
   "execution_count": 20,
   "metadata": {
    "collapsed": true
   },
   "outputs": [],
   "source": [
    "def create_interaction_matrix(df,user_col, item_col, rating_col, norm= False, threshold = None):\n",
    "    '''\n",
    "    Function to create an interaction matrix dataframe from transactional type interactions\n",
    "    Required Input -\n",
    "        - df = Pandas DataFrame containing user-item interactions\n",
    "        - user_col = column name containing user's identifier\n",
    "        - item_col = column name containing item's identifier\n",
    "        - rating col = column name containing user feedback on interaction with a given item\n",
    "        - norm (optional) = True if a normalization of ratings is needed\n",
    "        - threshold (required if norm = True) = value above which the rating is favorable\n",
    "    Expected output - \n",
    "        - Pandas dataframe with user-item interactions ready to be fed in a recommendation algorithm\n",
    "    '''\n",
    "    interactions = df.groupby([user_col, item_col])[rating_col] \\\n",
    "            .sum().unstack().reset_index(). \\\n",
    "            fillna(0).set_index(user_col)\n",
    "    if norm:\n",
    "        interactions = interactions.applymap(lambda x: 1 if x > threshold else 0)\n",
    "    return interactions\n",
    "\n",
    "\n",
    "def create_user_dict(interactions):\n",
    "    '''\n",
    "    Function to create a user dictionary based on their index and number in interaction dataset\n",
    "    Required Input - \n",
    "        interactions - dataset create by create_interaction_matrix\n",
    "    Expected Output -\n",
    "        user_dict - Dictionary type output containing interaction_index as key and user_id as value\n",
    "    '''\n",
    "    user_id = list(interactions.index)\n",
    "    user_dict = {}\n",
    "    counter = 0 \n",
    "    for i in user_id:\n",
    "        user_dict[i] = counter\n",
    "        counter += 1\n",
    "    return user_dict\n",
    "    \n",
    "def create_item_dict(df,id_col,name_col):\n",
    "    '''\n",
    "    Function to create an item dictionary based on their item_id and item name\n",
    "    Required Input - \n",
    "        - df = Pandas dataframe with Item information\n",
    "        - id_col = Column name containing unique identifier for an item\n",
    "        - name_col = Column name containing name of the item\n",
    "    Expected Output -\n",
    "        item_dict = Dictionary type output containing item_id as key and item_name as value\n",
    "    '''\n",
    "    item_dict ={}\n",
    "    for i in range(df.shape[0]):\n",
    "        item_dict[(df.loc[i,id_col])] = df.loc[i,name_col]\n",
    "    return item_dict\n",
    "\n",
    "\n",
    "def runMF(interactions, n_components=30, loss='warp', k=15, epoch=30,n_jobs = 4):\n",
    "    '''\n",
    "    Function to run matrix-factorization algorithm\n",
    "    Required Input -\n",
    "        - interactions = dataset create by create_interaction_matrix\n",
    "        - n_components = number of embeddings you want to create to define Item and user\n",
    "        - loss = loss function other options are logistic, brp\n",
    "        - epoch = number of epochs to run \n",
    "        - n_jobs = number of cores used for execution \n",
    "    Expected Output  -\n",
    "        Model - Trained model\n",
    "    '''\n",
    "    x = csr_matrix(interactions.values)\n",
    "    model = LightFM(no_components= n_components, loss=loss,k=k)\n",
    "    model.fit(x,epochs=epoch,num_threads = n_jobs)\n",
    "    return model\n",
    "\n",
    "def create_item_emdedding_distance_matrix(model,interactions):\n",
    "    '''\n",
    "    Function to create item-item distance embedding matrix\n",
    "    Required Input -\n",
    "        - model = Trained matrix factorization model\n",
    "        - interactions = dataset used for training the model\n",
    "    Expected Output -\n",
    "        - item_emdedding_distance_matrix = Pandas dataframe containing cosine distance matrix b/w items\n",
    "    '''\n",
    "    df_item_norm_sparse = csr_matrix(model.item_embeddings)\n",
    "    similarities = cosine_similarity(df_item_norm_sparse)\n",
    "    print(similarities[0])\n",
    "\n",
    "    #item_emdedding_distance_matrix = pd.DataFrame(similarities)\n",
    "    #item_emdedding_distance_matrix.columns = interactions.columns\n",
    "    #item_emdedding_distance_matrix.index = interactions.columns\n",
    "    #return item_emdedding_distance_matrix\n",
    "\n",
    "def item_item_recommendation(item_emdedding_distance_matrix, item_id, \n",
    "                             item_dict, n_items = 10, show = True):\n",
    "    '''\n",
    "    Function to create item-item recommendation\n",
    "    Required Input - \n",
    "        - item_emdedding_distance_matrix = Pandas dataframe containing cosine distance matrix b/w items\n",
    "        - item_id  = item ID for which we need to generate recommended items\n",
    "        - item_dict = Dictionary type input containing item_id as key and item_name as value\n",
    "        - n_items = Number of items needed as an output\n",
    "    Expected Output -\n",
    "        - recommended_items = List of recommended items\n",
    "    '''\n",
    "    recommended_items = list(pd.Series(item_emdedding_distance_matrix.loc[item_id,:]. \\\n",
    "                                  sort_values(ascending = False).head(n_items+1). \\\n",
    "                                  index[1:n_items+1]))\n",
    "    if show == True:\n",
    "        print(\"Item of interest :{0}\".format(item_dict[item_id]))\n",
    "        print(\"Item similar to the above item:\")\n",
    "        counter = 1\n",
    "        for i in recommended_items:\n",
    "            print(str(counter) + '- ' +  item_dict[i])\n",
    "            counter+=1\n",
    "    return recommended_items"
   ]
  },
  {
   "cell_type": "code",
   "execution_count": 21,
   "metadata": {
    "collapsed": false
   },
   "outputs": [
    {
     "data": {
      "text/html": [
       "<div>\n",
       "<table border=\"1\" class=\"dataframe\">\n",
       "  <thead>\n",
       "    <tr style=\"text-align: right;\">\n",
       "      <th>product_title</th>\n",
       "      <th>#GIRLBOSS</th>\n",
       "      <th>&amp;#34;I Know the Plans&amp;#34; Flexcover Journal</th>\n",
       "      <th>'Don't Make the Black Kids Angry': The hoax of black victimization and those who enable it.</th>\n",
       "      <th>'Salem's Lot</th>\n",
       "      <th>'Til the Well Runs Dry: A Novel</th>\n",
       "      <th>'White Girl Bleed A Lot': The Return of Racial Violence to America and How the Media Ignore It</th>\n",
       "      <th>002: Maus II: A Survivor's Tale: And Here My Troubles Began (Pantheon Graphic Novels)</th>\n",
       "      <th>1,000 Gluten-Free Recipes (1,000 Recipes)</th>\n",
       "      <th>1,000 Places to See Before You Die: Revised Second Edition</th>\n",
       "      <th>1,000 Unforgettable Senior Moments: Of Which We Could Remember Only 246</th>\n",
       "      <th>...</th>\n",
       "      <th>iPhone 5 For Dummies</th>\n",
       "      <th>iPhone For Seniors For Dummies</th>\n",
       "      <th>iPhone: The Missing Manual</th>\n",
       "      <th>iPhone: The Missing Manual (Missing Manuals)</th>\n",
       "      <th>knit, Swirl! Uniquely Flattering, One Piece, One Seam Swirl Jackets; Foreword by Cat Bordhi</th>\n",
       "      <th>salt.</th>\n",
       "      <th>the Next EXIT (2013) (Next Exit: The Most Complete Interstate Highway Guide Ever Printed)</th>\n",
       "      <th>unPHILtered: The Way I See It</th>\n",
       "      <th>xkcd: volume 0</th>\n",
       "      <th>¿Eres Mi Mama? (Bright &amp; Early Board Books(TM)) (Spanish Edition)</th>\n",
       "    </tr>\n",
       "    <tr>\n",
       "      <th>customer_id</th>\n",
       "      <th></th>\n",
       "      <th></th>\n",
       "      <th></th>\n",
       "      <th></th>\n",
       "      <th></th>\n",
       "      <th></th>\n",
       "      <th></th>\n",
       "      <th></th>\n",
       "      <th></th>\n",
       "      <th></th>\n",
       "      <th></th>\n",
       "      <th></th>\n",
       "      <th></th>\n",
       "      <th></th>\n",
       "      <th></th>\n",
       "      <th></th>\n",
       "      <th></th>\n",
       "      <th></th>\n",
       "      <th></th>\n",
       "      <th></th>\n",
       "      <th></th>\n",
       "    </tr>\n",
       "  </thead>\n",
       "  <tbody>\n",
       "    <tr>\n",
       "      <th>96533</th>\n",
       "      <td>0.0</td>\n",
       "      <td>0.0</td>\n",
       "      <td>0.0</td>\n",
       "      <td>0.0</td>\n",
       "      <td>0.0</td>\n",
       "      <td>0.0</td>\n",
       "      <td>0.0</td>\n",
       "      <td>0.0</td>\n",
       "      <td>0.0</td>\n",
       "      <td>0.0</td>\n",
       "      <td>...</td>\n",
       "      <td>0.0</td>\n",
       "      <td>0.0</td>\n",
       "      <td>0.0</td>\n",
       "      <td>0.0</td>\n",
       "      <td>0.0</td>\n",
       "      <td>0.0</td>\n",
       "      <td>0.0</td>\n",
       "      <td>0.0</td>\n",
       "      <td>0.0</td>\n",
       "      <td>0.0</td>\n",
       "    </tr>\n",
       "    <tr>\n",
       "      <th>168364</th>\n",
       "      <td>0.0</td>\n",
       "      <td>0.0</td>\n",
       "      <td>0.0</td>\n",
       "      <td>0.0</td>\n",
       "      <td>0.0</td>\n",
       "      <td>0.0</td>\n",
       "      <td>0.0</td>\n",
       "      <td>0.0</td>\n",
       "      <td>0.0</td>\n",
       "      <td>0.0</td>\n",
       "      <td>...</td>\n",
       "      <td>0.0</td>\n",
       "      <td>0.0</td>\n",
       "      <td>0.0</td>\n",
       "      <td>0.0</td>\n",
       "      <td>0.0</td>\n",
       "      <td>0.0</td>\n",
       "      <td>0.0</td>\n",
       "      <td>0.0</td>\n",
       "      <td>0.0</td>\n",
       "      <td>0.0</td>\n",
       "    </tr>\n",
       "    <tr>\n",
       "      <th>329880</th>\n",
       "      <td>0.0</td>\n",
       "      <td>0.0</td>\n",
       "      <td>0.0</td>\n",
       "      <td>0.0</td>\n",
       "      <td>0.0</td>\n",
       "      <td>0.0</td>\n",
       "      <td>0.0</td>\n",
       "      <td>0.0</td>\n",
       "      <td>0.0</td>\n",
       "      <td>0.0</td>\n",
       "      <td>...</td>\n",
       "      <td>0.0</td>\n",
       "      <td>0.0</td>\n",
       "      <td>0.0</td>\n",
       "      <td>0.0</td>\n",
       "      <td>0.0</td>\n",
       "      <td>0.0</td>\n",
       "      <td>0.0</td>\n",
       "      <td>0.0</td>\n",
       "      <td>0.0</td>\n",
       "      <td>0.0</td>\n",
       "    </tr>\n",
       "    <tr>\n",
       "      <th>396880</th>\n",
       "      <td>0.0</td>\n",
       "      <td>0.0</td>\n",
       "      <td>0.0</td>\n",
       "      <td>0.0</td>\n",
       "      <td>0.0</td>\n",
       "      <td>0.0</td>\n",
       "      <td>0.0</td>\n",
       "      <td>0.0</td>\n",
       "      <td>0.0</td>\n",
       "      <td>0.0</td>\n",
       "      <td>...</td>\n",
       "      <td>0.0</td>\n",
       "      <td>0.0</td>\n",
       "      <td>0.0</td>\n",
       "      <td>0.0</td>\n",
       "      <td>0.0</td>\n",
       "      <td>0.0</td>\n",
       "      <td>0.0</td>\n",
       "      <td>0.0</td>\n",
       "      <td>0.0</td>\n",
       "      <td>0.0</td>\n",
       "    </tr>\n",
       "    <tr>\n",
       "      <th>405716</th>\n",
       "      <td>0.0</td>\n",
       "      <td>0.0</td>\n",
       "      <td>0.0</td>\n",
       "      <td>0.0</td>\n",
       "      <td>0.0</td>\n",
       "      <td>0.0</td>\n",
       "      <td>0.0</td>\n",
       "      <td>0.0</td>\n",
       "      <td>0.0</td>\n",
       "      <td>0.0</td>\n",
       "      <td>...</td>\n",
       "      <td>0.0</td>\n",
       "      <td>0.0</td>\n",
       "      <td>0.0</td>\n",
       "      <td>0.0</td>\n",
       "      <td>0.0</td>\n",
       "      <td>0.0</td>\n",
       "      <td>0.0</td>\n",
       "      <td>0.0</td>\n",
       "      <td>0.0</td>\n",
       "      <td>0.0</td>\n",
       "    </tr>\n",
       "  </tbody>\n",
       "</table>\n",
       "<p>5 rows × 8916 columns</p>\n",
       "</div>"
      ],
      "text/plain": [
       "product_title  #GIRLBOSS  &#34;I Know the Plans&#34; Flexcover Journal  \\\n",
       "customer_id                                                              \n",
       "96533                0.0                                           0.0   \n",
       "168364               0.0                                           0.0   \n",
       "329880               0.0                                           0.0   \n",
       "396880               0.0                                           0.0   \n",
       "405716               0.0                                           0.0   \n",
       "\n",
       "product_title  'Don't Make the Black Kids Angry': The hoax of black victimization and those who enable it.  \\\n",
       "customer_id                                                                                                  \n",
       "96533                                                        0.0                                             \n",
       "168364                                                       0.0                                             \n",
       "329880                                                       0.0                                             \n",
       "396880                                                       0.0                                             \n",
       "405716                                                       0.0                                             \n",
       "\n",
       "product_title  'Salem's Lot  'Til the Well Runs Dry: A Novel  \\\n",
       "customer_id                                                    \n",
       "96533                   0.0                              0.0   \n",
       "168364                  0.0                              0.0   \n",
       "329880                  0.0                              0.0   \n",
       "396880                  0.0                              0.0   \n",
       "405716                  0.0                              0.0   \n",
       "\n",
       "product_title  'White Girl Bleed A Lot': The Return of Racial Violence to America and How the Media Ignore It  \\\n",
       "customer_id                                                                                                     \n",
       "96533                                                        0.0                                                \n",
       "168364                                                       0.0                                                \n",
       "329880                                                       0.0                                                \n",
       "396880                                                       0.0                                                \n",
       "405716                                                       0.0                                                \n",
       "\n",
       "product_title  002: Maus II: A Survivor's Tale: And Here My Troubles Began (Pantheon Graphic Novels)  \\\n",
       "customer_id                                                                                            \n",
       "96533                                                        0.0                                       \n",
       "168364                                                       0.0                                       \n",
       "329880                                                       0.0                                       \n",
       "396880                                                       0.0                                       \n",
       "405716                                                       0.0                                       \n",
       "\n",
       "product_title  1,000 Gluten-Free Recipes (1,000 Recipes)  \\\n",
       "customer_id                                                \n",
       "96533                                                0.0   \n",
       "168364                                               0.0   \n",
       "329880                                               0.0   \n",
       "396880                                               0.0   \n",
       "405716                                               0.0   \n",
       "\n",
       "product_title  1,000 Places to See Before You Die: Revised Second Edition  \\\n",
       "customer_id                                                                 \n",
       "96533                                                        0.0            \n",
       "168364                                                       0.0            \n",
       "329880                                                       0.0            \n",
       "396880                                                       0.0            \n",
       "405716                                                       0.0            \n",
       "\n",
       "product_title  1,000 Unforgettable Senior Moments: Of Which We Could Remember Only 246  \\\n",
       "customer_id                                                                              \n",
       "96533                                                        0.0                         \n",
       "168364                                                       0.0                         \n",
       "329880                                                       0.0                         \n",
       "396880                                                       0.0                         \n",
       "405716                                                       0.0                         \n",
       "\n",
       "product_title                                ...                                  \\\n",
       "customer_id                                  ...                                   \n",
       "96533                                        ...                                   \n",
       "168364                                       ...                                   \n",
       "329880                                       ...                                   \n",
       "396880                                       ...                                   \n",
       "405716                                       ...                                   \n",
       "\n",
       "product_title  iPhone 5 For Dummies  iPhone For Seniors For Dummies  \\\n",
       "customer_id                                                           \n",
       "96533                           0.0                             0.0   \n",
       "168364                          0.0                             0.0   \n",
       "329880                          0.0                             0.0   \n",
       "396880                          0.0                             0.0   \n",
       "405716                          0.0                             0.0   \n",
       "\n",
       "product_title  iPhone: The Missing Manual  \\\n",
       "customer_id                                 \n",
       "96533                                 0.0   \n",
       "168364                                0.0   \n",
       "329880                                0.0   \n",
       "396880                                0.0   \n",
       "405716                                0.0   \n",
       "\n",
       "product_title  iPhone: The Missing Manual (Missing Manuals)  \\\n",
       "customer_id                                                   \n",
       "96533                                                   0.0   \n",
       "168364                                                  0.0   \n",
       "329880                                                  0.0   \n",
       "396880                                                  0.0   \n",
       "405716                                                  0.0   \n",
       "\n",
       "product_title  knit, Swirl! Uniquely Flattering, One Piece, One Seam Swirl Jackets; Foreword by Cat Bordhi  \\\n",
       "customer_id                                                                                                  \n",
       "96533                                                        0.0                                             \n",
       "168364                                                       0.0                                             \n",
       "329880                                                       0.0                                             \n",
       "396880                                                       0.0                                             \n",
       "405716                                                       0.0                                             \n",
       "\n",
       "product_title  salt.  \\\n",
       "customer_id            \n",
       "96533            0.0   \n",
       "168364           0.0   \n",
       "329880           0.0   \n",
       "396880           0.0   \n",
       "405716           0.0   \n",
       "\n",
       "product_title  the Next EXIT (2013) (Next Exit: The Most Complete Interstate Highway Guide Ever Printed)  \\\n",
       "customer_id                                                                                                \n",
       "96533                                                        0.0                                           \n",
       "168364                                                       0.0                                           \n",
       "329880                                                       0.0                                           \n",
       "396880                                                       0.0                                           \n",
       "405716                                                       0.0                                           \n",
       "\n",
       "product_title  unPHILtered: The Way I See It  xkcd: volume 0  \\\n",
       "customer_id                                                    \n",
       "96533                                    0.0             0.0   \n",
       "168364                                   0.0             0.0   \n",
       "329880                                   0.0             0.0   \n",
       "396880                                   0.0             0.0   \n",
       "405716                                   0.0             0.0   \n",
       "\n",
       "product_title  ¿Eres Mi Mama? (Bright & Early Board Books(TM)) (Spanish Edition)  \n",
       "customer_id                                                                       \n",
       "96533                                                        0.0                  \n",
       "168364                                                       0.0                  \n",
       "329880                                                       0.0                  \n",
       "396880                                                       0.0                  \n",
       "405716                                                       0.0                  \n",
       "\n",
       "[5 rows x 8916 columns]"
      ]
     },
     "execution_count": 21,
     "metadata": {},
     "output_type": "execute_result"
    }
   ],
   "source": [
    "# Creating interaction matrix using rating data\n",
    "interactions = create_interaction_matrix(df = df,\n",
    "                                         user_col = 'customer_id',\n",
    "                                         item_col = 'product_title',\n",
    "                                         rating_col = 'star_rating')\n",
    "interactions.head()"
   ]
  },
  {
   "cell_type": "code",
   "execution_count": null,
   "metadata": {
    "collapsed": false
   },
   "outputs": [],
   "source": [
    "# Create User Dict\n",
    "user_dict = create_user_dict(interactions=interactions)\n",
    "# Create Item dict\n",
    "movies_dict = create_item_dict(df = df,\n",
    "                               id_col = 'product_id',\n",
    "                               name_col = 'product_id')"
   ]
  },
  {
   "cell_type": "code",
   "execution_count": null,
   "metadata": {
    "collapsed": false
   },
   "outputs": [],
   "source": [
    "from scipy.sparse import csr_matrix\n",
    "from lightfm import LightFM\n",
    "mf_model = runMF(interactions = interactions,\n",
    "                 n_components = 30,\n",
    "                 loss = 'warp',\n",
    "                 epoch = 30,\n",
    "                 n_jobs = 4)"
   ]
  },
  {
   "cell_type": "code",
   "execution_count": null,
   "metadata": {
    "collapsed": true
   },
   "outputs": [],
   "source": []
  },
  {
   "cell_type": "code",
   "execution_count": null,
   "metadata": {
    "collapsed": false
   },
   "outputs": [],
   "source": [
    "## Creating item-item distance matrix\n",
    "from sklearn.metrics.pairwise import cosine_similarity\n",
    "item_item_dist = create_item_emdedding_distance_matrix(model = mf_model,\n",
    "                                                       interactions = interactions)"
   ]
  },
  {
   "cell_type": "code",
   "execution_count": null,
   "metadata": {
    "collapsed": true
   },
   "outputs": [],
   "source": [
    "## Calling 10 recommended items for item id \n",
    "rec_list = item_item_recommendation(item_emdedding_distance_matrix = item_item_dist,\n",
    "                                    item_id = 5378,\n",
    "                                    item_dict = movies_dict,\n",
    "                                    n_items = 10)"
   ]
  },
  {
   "cell_type": "markdown",
   "metadata": {},
   "source": [
    "# Modeling in Suprise  Works best for User-Item and no metadata\n"
   ]
  },
  {
   "cell_type": "code",
   "execution_count": null,
   "metadata": {
    "collapsed": false,
    "scrolled": true
   },
   "outputs": [],
   "source": [
    "from surprise import Reader, Dataset\n",
    "\n",
    "# to load dataset from pandas df, we need `load_fromm_df` method in surprise lib\n",
    "\n",
    "ratings_dict = {'itemID': list(df.product_title),\n",
    "                'userID': list(df.customer_id),\n",
    "                'rating': list(df.star_rating)}\n",
    "df = pd.DataFrame(ratings_dict)\n",
    "\n",
    "# A reader is still needed but only the rating_scale param is required.\n",
    "# The Reader class is used to parse a file containing ratings.\n",
    "reader = Reader(rating_scale=(1, 5))\n",
    "\n",
    "# The columns must correspond to user id, item id and ratings (in that order).\n",
    "data = Dataset.load_from_df(df[['userID', 'itemID', 'rating']], reader)\n"
   ]
  },
  {
   "cell_type": "code",
   "execution_count": null,
   "metadata": {
    "collapsed": true
   },
   "outputs": [],
   "source": [
    "from __future__ import (absolute_import, division, print_function,\n",
    "                        unicode_literals)\n",
    "from collections import defaultdict\n",
    "\n",
    "from surprise import SVD\n",
    "from surprise import Dataset\n",
    "\n",
    "\n",
    "def get_top_k(predictions, k):\n",
    "    '''Return a top_k dicts where keys are user ids and values are lists of\n",
    "    tuples [(item id, rating estimation) ...].\n",
    "\n",
    "    Takes in a list of predictions as returned by the test method.\n",
    "    '''\n",
    "\n",
    "    # First map the predictions to each user.\n",
    "    top_k = defaultdict(list)\n",
    "    for uid, iid, true_r, est, _ in predictions:\n",
    "        top_k[uid].append((iid, est))\n",
    "\n",
    "    # Then sort the predictions for each user and retrieve the k highest ones.\n",
    "    for uid, user_ratings in top_k.items():\n",
    "        user_ratings.sort(key=lambda x:x[1], reverse=True)\n",
    "        top_k[uid] = user_ratings[:k]\n",
    "\n",
    "    return top_k"
   ]
  },
  {
   "cell_type": "code",
   "execution_count": null,
   "metadata": {
    "collapsed": false
   },
   "outputs": [],
   "source": [
    "trainset = data.build_full_trainset()\n",
    "\n",
    "algo = SVD()\n",
    "algo.fit(trainset)"
   ]
  },
  {
   "cell_type": "code",
   "execution_count": null,
   "metadata": {
    "collapsed": false
   },
   "outputs": [],
   "source": [
    "# We are here testing on the WHOLE dataset. Which means that all the ratings we\n",
    "# are predicting are already known, but it does not really matter.\n",
    "testset = data.construct_testset(raw_testset=data.raw_ratings)\n",
    "predictions = algo.test(testset)\n",
    "#accuracy.rmse(predictions, verbose=True)  # ~ 0.68 (which is low)\n",
    "\n",
    "#print(predictions)\n",
    "\n",
    "\n"
   ]
  },
  {
   "cell_type": "code",
   "execution_count": null,
   "metadata": {
    "collapsed": false
   },
   "outputs": [],
   "source": [
    "top_k = get_top_k(predictions, 5)\n",
    "\n",
    "# Print the recommended items\n",
    "for uid, user_ratings in top_k.items():\n",
    "    print(uid, [iid for (iid, _) in user_ratings])\n",
    "\n",
    "\n",
    "\n",
    "# Compute the total number of recommended items.\n",
    "all_recommended_items = set(iid for (_, user_ratings) in top_k.items() for\n",
    "                            (iid, _) in user_ratings)\n",
    "\n",
    "print('Number of recommended items:', len(all_recommended_items), 'over',\n",
    "      len(top_k), 'users')"
   ]
  }
 ],
 "metadata": {
  "anaconda-cloud": {},
  "kernelspec": {
   "display_name": "Python [default]",
   "language": "python",
   "name": "python3"
  },
  "language_info": {
   "codemirror_mode": {
    "name": "ipython",
    "version": 3
   },
   "file_extension": ".py",
   "mimetype": "text/x-python",
   "name": "python",
   "nbconvert_exporter": "python",
   "pygments_lexer": "ipython3",
   "version": "3.5.4"
  }
 },
 "nbformat": 4,
 "nbformat_minor": 2
}
