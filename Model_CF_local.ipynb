{
 "cells": [
  {
   "cell_type": "code",
   "execution_count": 1,
   "metadata": {},
   "outputs": [],
   "source": [
    "import pandas as pd\n",
    "import sqlite3 as sq\n",
    "import surprise"
   ]
  },
  {
   "cell_type": "code",
   "execution_count": 2,
   "metadata": {},
   "outputs": [],
   "source": [
    "#Set up data\n",
    "path = '/Users/Dustin/GT_project/wrangled_reviews.db'\n",
    "def import_data(db_path):\n",
    "    conn = sq.connect(db_path) #sqliteDB path goes in parantheses\n",
    "    crsr = conn.cursor()\n",
    "\n",
    "    df = pd.read_sql_query('''\n",
    "                SELECT *\n",
    "                FROM trunc_books\n",
    "                ;\n",
    "                ''', conn)\n",
    "\n",
    "    df['star_rating'] = df['star_rating'].astype(float)\n",
    "    df['star_rating'] = df['star_rating'].astype(int) #convert rating to integer type\n",
    "    df['helpful_votes'] = df['helpful_votes'].astype(int) #convert rating to integer type\n",
    "\n",
    "    df['review_body'] = df['review_body'].astype(str) #convert to str\n",
    "    df['review_headline'] = df['review_headline'].astype(str) #convert to str\n",
    "    \n",
    "\n",
    "    return df\n",
    "\n",
    "df = import_data(path)"
   ]
  },
  {
   "cell_type": "code",
   "execution_count": 3,
   "metadata": {},
   "outputs": [
    {
     "data": {
      "text/html": [
       "<div>\n",
       "<style scoped>\n",
       "    .dataframe tbody tr th:only-of-type {\n",
       "        vertical-align: middle;\n",
       "    }\n",
       "\n",
       "    .dataframe tbody tr th {\n",
       "        vertical-align: top;\n",
       "    }\n",
       "\n",
       "    .dataframe thead th {\n",
       "        text-align: right;\n",
       "    }\n",
       "</style>\n",
       "<table border=\"1\" class=\"dataframe\">\n",
       "  <thead>\n",
       "    <tr style=\"text-align: right;\">\n",
       "      <th></th>\n",
       "      <th>customer_id</th>\n",
       "      <th>product_id</th>\n",
       "      <th>product_parent</th>\n",
       "      <th>star_rating</th>\n",
       "      <th>helpful_votes</th>\n",
       "      <th>review_headline</th>\n",
       "      <th>review_body</th>\n",
       "      <th>product_category</th>\n",
       "      <th>marketplace</th>\n",
       "      <th>review_date</th>\n",
       "      <th>verified_purchase</th>\n",
       "    </tr>\n",
       "  </thead>\n",
       "  <tbody>\n",
       "    <tr>\n",
       "      <th>0</th>\n",
       "      <td>40676812</td>\n",
       "      <td>1938067126</td>\n",
       "      <td>402004849</td>\n",
       "      <td>5</td>\n",
       "      <td>0</td>\n",
       "      <td>Five Stars</td>\n",
       "      <td>Excellent--</td>\n",
       "      <td>Books</td>\n",
       "      <td>US</td>\n",
       "      <td>2015-08-31</td>\n",
       "      <td>Y</td>\n",
       "    </tr>\n",
       "    <tr>\n",
       "      <th>1</th>\n",
       "      <td>2784618</td>\n",
       "      <td>014017737X</td>\n",
       "      <td>779170984</td>\n",
       "      <td>5</td>\n",
       "      <td>0</td>\n",
       "      <td>Five Stars</td>\n",
       "      <td>Arrived before estimated delivery date, just a...</td>\n",
       "      <td>Books</td>\n",
       "      <td>US</td>\n",
       "      <td>2015-08-31</td>\n",
       "      <td>Y</td>\n",
       "    </tr>\n",
       "    <tr>\n",
       "      <th>2</th>\n",
       "      <td>2876528</td>\n",
       "      <td>0982207743</td>\n",
       "      <td>225126623</td>\n",
       "      <td>3</td>\n",
       "      <td>1</td>\n",
       "      <td>Three Stars</td>\n",
       "      <td>Recipes are not complicated, but ingredients a...</td>\n",
       "      <td>Books</td>\n",
       "      <td>US</td>\n",
       "      <td>2015-08-31</td>\n",
       "      <td>Y</td>\n",
       "    </tr>\n",
       "    <tr>\n",
       "      <th>3</th>\n",
       "      <td>33678379</td>\n",
       "      <td>080072433X</td>\n",
       "      <td>42136245</td>\n",
       "      <td>3</td>\n",
       "      <td>0</td>\n",
       "      <td>Hard to Get Into</td>\n",
       "      <td>This book I actually had a hard time with. I p...</td>\n",
       "      <td>Books</td>\n",
       "      <td>US</td>\n",
       "      <td>2015-08-31</td>\n",
       "      <td>N</td>\n",
       "    </tr>\n",
       "    <tr>\n",
       "      <th>4</th>\n",
       "      <td>32159651</td>\n",
       "      <td>0615815650</td>\n",
       "      <td>625464646</td>\n",
       "      <td>3</td>\n",
       "      <td>1</td>\n",
       "      <td>Run of the mill</td>\n",
       "      <td>I've read quite a few books about persuasion p...</td>\n",
       "      <td>Books</td>\n",
       "      <td>US</td>\n",
       "      <td>2015-08-31</td>\n",
       "      <td>Y</td>\n",
       "    </tr>\n",
       "  </tbody>\n",
       "</table>\n",
       "</div>"
      ],
      "text/plain": [
       "   customer_id  product_id  product_parent  star_rating  helpful_votes  \\\n",
       "0     40676812  1938067126       402004849            5              0   \n",
       "1      2784618  014017737X       779170984            5              0   \n",
       "2      2876528  0982207743       225126623            3              1   \n",
       "3     33678379  080072433X        42136245            3              0   \n",
       "4     32159651  0615815650       625464646            3              1   \n",
       "\n",
       "    review_headline                                        review_body  \\\n",
       "0        Five Stars                                        Excellent--   \n",
       "1        Five Stars  Arrived before estimated delivery date, just a...   \n",
       "2       Three Stars  Recipes are not complicated, but ingredients a...   \n",
       "3  Hard to Get Into  This book I actually had a hard time with. I p...   \n",
       "4   Run of the mill  I've read quite a few books about persuasion p...   \n",
       "\n",
       "  product_category marketplace review_date verified_purchase  \n",
       "0            Books          US  2015-08-31                 Y  \n",
       "1            Books          US  2015-08-31                 Y  \n",
       "2            Books          US  2015-08-31                 Y  \n",
       "3            Books          US  2015-08-31                 N  \n",
       "4            Books          US  2015-08-31                 Y  "
      ]
     },
     "execution_count": 3,
     "metadata": {},
     "output_type": "execute_result"
    }
   ],
   "source": [
    "df.head(5)\n",
    "#len(df)\n",
    "#df.dtypes"
   ]
  },
  {
   "cell_type": "code",
   "execution_count": 4,
   "metadata": {},
   "outputs": [],
   "source": [
    "def count_words(data):\n",
    "   words = data.split(\" \")\n",
    "   num_words = len(words)\n",
    "   return num_words\n",
    "\n",
    "df['review_word_count']=0\n",
    "df['review_hl_count']=0\n",
    "\n",
    "df['review_word_count'] = df['review_body'].map(count_words)\n",
    "df['review_hl_count'] = df['review_headline'].map(count_words)\n"
   ]
  },
  {
   "cell_type": "markdown",
   "metadata": {},
   "source": [
    "Add in Sentiment Analysis"
   ]
  },
  {
   "cell_type": "code",
   "execution_count": 5,
   "metadata": {},
   "outputs": [],
   "source": [
    "from textblob import TextBlob\n",
    "from numpy import interp"
   ]
  },
  {
   "cell_type": "code",
   "execution_count": 6,
   "metadata": {},
   "outputs": [],
   "source": [
    "def sentiment(row):\n",
    "    try:\n",
    "        #raw text of review\n",
    "        blob = TextBlob(row['review_body'])\n",
    "        #sentiment polarity score\n",
    "        polarity = blob.sentiment.polarity\n",
    "        score = interp(polarity, [-1,1], [1,5])\n",
    "        return score\n",
    "    except:\n",
    "        pass"
   ]
  },
  {
   "cell_type": "code",
   "execution_count": 7,
   "metadata": {},
   "outputs": [],
   "source": [
    "def clean_sentiment(row):\n",
    "    try:\n",
    "        import string\n",
    "        from nltk.corpus import stopwords\n",
    "\n",
    "        #split raw text of review into tokens\n",
    "        words= row['review_body']\n",
    "        tokens = words.split()\n",
    "\n",
    "        # remove punctuation from each token\n",
    "        table = str.maketrans('', '', string.punctuation)\n",
    "        tokens = [w.translate(table) for w in tokens]\n",
    "\n",
    "        #remove tokens that are not alphabetic\n",
    "        tokens = [word for word in tokens if word.isalpha()]\n",
    "\n",
    "        # filter out stop words\n",
    "        stop_words = set(stopwords.words('english'))\n",
    "        tokens = [w for w in tokens if not w in stop_words]\n",
    "\n",
    "        #convert this list to a string\n",
    "        blob = ' '.join(tokens)\n",
    "\n",
    "        #find sentiment of new string and convert to 1-5 scale\n",
    "        blob = TextBlob(blob)\n",
    "        polarity = blob.sentiment.polarity\n",
    "        score = interp(polarity, [-1,1], [1,5])\n",
    "        return score\n",
    "    except:\n",
    "        pass"
   ]
  },
  {
   "cell_type": "code",
   "execution_count": 8,
   "metadata": {},
   "outputs": [],
   "source": [
    "df['sentiment_star_rating'] = df.apply(sentiment,axis=1)\n",
    "#df['cleaned_sentiment_star_rating'] = df.apply(clean_sentiment,axis=1)\n",
    "#df['star_rating']=df['star_rating'].astype(float)\n",
    "#df['difference'] = abs(df['star_rating'] - df['cleaned_sentiment_star_rating'])\n"
   ]
  },
  {
   "cell_type": "code",
   "execution_count": 9,
   "metadata": {},
   "outputs": [
    {
     "data": {
      "text/html": [
       "<div>\n",
       "<style scoped>\n",
       "    .dataframe tbody tr th:only-of-type {\n",
       "        vertical-align: middle;\n",
       "    }\n",
       "\n",
       "    .dataframe tbody tr th {\n",
       "        vertical-align: top;\n",
       "    }\n",
       "\n",
       "    .dataframe thead th {\n",
       "        text-align: right;\n",
       "    }\n",
       "</style>\n",
       "<table border=\"1\" class=\"dataframe\">\n",
       "  <thead>\n",
       "    <tr style=\"text-align: right;\">\n",
       "      <th></th>\n",
       "      <th>customer_id</th>\n",
       "      <th>product_id</th>\n",
       "      <th>product_parent</th>\n",
       "      <th>star_rating</th>\n",
       "      <th>helpful_votes</th>\n",
       "      <th>review_headline</th>\n",
       "      <th>review_body</th>\n",
       "      <th>product_category</th>\n",
       "      <th>marketplace</th>\n",
       "      <th>review_date</th>\n",
       "      <th>verified_purchase</th>\n",
       "      <th>review_word_count</th>\n",
       "      <th>review_hl_count</th>\n",
       "      <th>sentiment_star_rating</th>\n",
       "    </tr>\n",
       "  </thead>\n",
       "  <tbody>\n",
       "    <tr>\n",
       "      <th>0</th>\n",
       "      <td>40676812</td>\n",
       "      <td>1938067126</td>\n",
       "      <td>402004849</td>\n",
       "      <td>5</td>\n",
       "      <td>0</td>\n",
       "      <td>Five Stars</td>\n",
       "      <td>Excellent--</td>\n",
       "      <td>Books</td>\n",
       "      <td>US</td>\n",
       "      <td>2015-08-31</td>\n",
       "      <td>Y</td>\n",
       "      <td>1</td>\n",
       "      <td>2</td>\n",
       "      <td>5.000000</td>\n",
       "    </tr>\n",
       "    <tr>\n",
       "      <th>1</th>\n",
       "      <td>2784618</td>\n",
       "      <td>014017737X</td>\n",
       "      <td>779170984</td>\n",
       "      <td>5</td>\n",
       "      <td>0</td>\n",
       "      <td>Five Stars</td>\n",
       "      <td>Arrived before estimated delivery date, just a...</td>\n",
       "      <td>Books</td>\n",
       "      <td>US</td>\n",
       "      <td>2015-08-31</td>\n",
       "      <td>Y</td>\n",
       "      <td>8</td>\n",
       "      <td>2</td>\n",
       "      <td>3.000000</td>\n",
       "    </tr>\n",
       "    <tr>\n",
       "      <th>2</th>\n",
       "      <td>2876528</td>\n",
       "      <td>0982207743</td>\n",
       "      <td>225126623</td>\n",
       "      <td>3</td>\n",
       "      <td>1</td>\n",
       "      <td>Three Stars</td>\n",
       "      <td>Recipes are not complicated, but ingredients a...</td>\n",
       "      <td>Books</td>\n",
       "      <td>US</td>\n",
       "      <td>2015-08-31</td>\n",
       "      <td>Y</td>\n",
       "      <td>10</td>\n",
       "      <td>2</td>\n",
       "      <td>3.500000</td>\n",
       "    </tr>\n",
       "    <tr>\n",
       "      <th>3</th>\n",
       "      <td>33678379</td>\n",
       "      <td>080072433X</td>\n",
       "      <td>42136245</td>\n",
       "      <td>3</td>\n",
       "      <td>0</td>\n",
       "      <td>Hard to Get Into</td>\n",
       "      <td>This book I actually had a hard time with. I p...</td>\n",
       "      <td>Books</td>\n",
       "      <td>US</td>\n",
       "      <td>2015-08-31</td>\n",
       "      <td>N</td>\n",
       "      <td>277</td>\n",
       "      <td>4</td>\n",
       "      <td>3.076869</td>\n",
       "    </tr>\n",
       "    <tr>\n",
       "      <th>4</th>\n",
       "      <td>32159651</td>\n",
       "      <td>0615815650</td>\n",
       "      <td>625464646</td>\n",
       "      <td>3</td>\n",
       "      <td>1</td>\n",
       "      <td>Run of the mill</td>\n",
       "      <td>I've read quite a few books about persuasion p...</td>\n",
       "      <td>Books</td>\n",
       "      <td>US</td>\n",
       "      <td>2015-08-31</td>\n",
       "      <td>Y</td>\n",
       "      <td>22</td>\n",
       "      <td>4</td>\n",
       "      <td>2.624242</td>\n",
       "    </tr>\n",
       "  </tbody>\n",
       "</table>\n",
       "</div>"
      ],
      "text/plain": [
       "   customer_id  product_id  product_parent  star_rating  helpful_votes  \\\n",
       "0     40676812  1938067126       402004849            5              0   \n",
       "1      2784618  014017737X       779170984            5              0   \n",
       "2      2876528  0982207743       225126623            3              1   \n",
       "3     33678379  080072433X        42136245            3              0   \n",
       "4     32159651  0615815650       625464646            3              1   \n",
       "\n",
       "    review_headline                                        review_body  \\\n",
       "0        Five Stars                                        Excellent--   \n",
       "1        Five Stars  Arrived before estimated delivery date, just a...   \n",
       "2       Three Stars  Recipes are not complicated, but ingredients a...   \n",
       "3  Hard to Get Into  This book I actually had a hard time with. I p...   \n",
       "4   Run of the mill  I've read quite a few books about persuasion p...   \n",
       "\n",
       "  product_category marketplace review_date verified_purchase  \\\n",
       "0            Books          US  2015-08-31                 Y   \n",
       "1            Books          US  2015-08-31                 Y   \n",
       "2            Books          US  2015-08-31                 Y   \n",
       "3            Books          US  2015-08-31                 N   \n",
       "4            Books          US  2015-08-31                 Y   \n",
       "\n",
       "   review_word_count  review_hl_count  sentiment_star_rating  \n",
       "0                  1                2               5.000000  \n",
       "1                  8                2               3.000000  \n",
       "2                 10                2               3.500000  \n",
       "3                277                4               3.076869  \n",
       "4                 22                4               2.624242  "
      ]
     },
     "execution_count": 9,
     "metadata": {},
     "output_type": "execute_result"
    }
   ],
   "source": [
    "df.head(5)"
   ]
  },
  {
   "cell_type": "code",
   "execution_count": 10,
   "metadata": {},
   "outputs": [
    {
     "data": {
      "text/plain": [
       "268649"
      ]
     },
     "execution_count": 10,
     "metadata": {},
     "output_type": "execute_result"
    }
   ],
   "source": [
    "len(df)"
   ]
  },
  {
   "cell_type": "code",
   "execution_count": null,
   "metadata": {},
   "outputs": [],
   "source": []
  },
  {
   "cell_type": "code",
   "execution_count": null,
   "metadata": {},
   "outputs": [],
   "source": [
    "X_dat = df[['product_parent','star_rating','helpful_votes','review_word_count','review_hl_count','sentiment_star_rating']]\n",
    "\n"
   ]
  },
  {
   "cell_type": "markdown",
   "metadata": {},
   "source": [
    "# YellowBrick Viz\n"
   ]
  },
  {
   "cell_type": "code",
   "execution_count": null,
   "metadata": {},
   "outputs": [],
   "source": [
    "from sklearn import datasets\n",
    "from yellowbrick.target import FeatureCorrelation\n",
    "\n",
    "# Load the regression data set\n",
    "X, y = data['product_parent','helpful_votes','review_word_count','review_hl_count','sentiment_star_rating']\n",
    ", data['star_rating']\n",
    "feature_names = np.array(df['feature_names'])\n",
    "\n",
    "visualizer = FeatureCorrelation(labels=feature_names)\n",
    "visualizer.fit(X, y)\n",
    "visualizer.poof()"
   ]
  },
  {
   "cell_type": "code",
   "execution_count": null,
   "metadata": {},
   "outputs": [],
   "source": [
    "from yellowbrick.features import Rank2D\n",
    "%matplotlib inline\n",
    "\n",
    "visualizer = Rank2D(algorithm=\"pearson\")\n",
    "visualizer.fit_transform(X_dat)\n",
    "visualizer.poof()"
   ]
  },
  {
   "cell_type": "code",
   "execution_count": null,
   "metadata": {},
   "outputs": [],
   "source": [
    "from yellowbrick.features import JointPlotVisualizer\n",
    "\n",
    "visualizer = JointPlotVisualizer(feature='star_rating', target='sentiment_star_rating')\n",
    "visualizer.fit(X_dat['star_rating'], X_dat['sentiment_star_rating'])\n",
    "visualizer.poof()"
   ]
  },
  {
   "cell_type": "code",
   "execution_count": null,
   "metadata": {},
   "outputs": [],
   "source": [
    "from sklearn.cluster import MiniBatchKMeans\n",
    "\n",
    "from yellowbrick.cluster import KElbowVisualizer\n",
    "\n",
    "# Instantiate the clustering model and visualizer\n",
    "visualizer = KElbowVisualizer(MiniBatchKMeans(), k=(4,12))\n",
    "\n",
    "visualizer.fit(X_dat) # Fit the training data to the visualizer\n",
    "visualizer.poof() # Draw/show/poof the data"
   ]
  },
  {
   "cell_type": "code",
   "execution_count": null,
   "metadata": {},
   "outputs": [],
   "source": [
    "from sklearn.cluster import MiniBatchKMeans\n",
    "\n",
    "from yellowbrick.cluster import SilhouetteVisualizer\n",
    "\n",
    "# Instantiate the clustering model and visualizer\n",
    "model = MiniBatchKMeans(7)\n",
    "visualizer = SilhouetteVisualizer(model)\n",
    "\n",
    "visualizer.fit(X_dat) # Fit the training data to the visualizer\n",
    "visualizer.poof() # Draw/show/poof the data"
   ]
  },
  {
   "cell_type": "markdown",
   "metadata": {},
   "source": [
    "# Modeling in Sci-Kit Learn"
   ]
  },
  {
   "cell_type": "code",
   "execution_count": 26,
   "metadata": {},
   "outputs": [],
   "source": [
    "from scipy.sparse import csr_matrix\n",
    "df_pivot = df.pivot_table(index='customer_id',columns='product_id',values='star_rating',fill_value=0)\n",
    "X = df_pivot.T"
   ]
  },
  {
   "cell_type": "code",
   "execution_count": 29,
   "metadata": {},
   "outputs": [
    {
     "data": {
      "text/plain": [
       "(33702, 12)"
      ]
     },
     "execution_count": 29,
     "metadata": {},
     "output_type": "execute_result"
    }
   ],
   "source": [
    "from sklearn.decomposition import TruncatedSVD\n",
    "SVD = TruncatedSVD(n_components=12, random_state=17)\n",
    "matrix = SVD.fit_transform(X)\n",
    "matrix.shape"
   ]
  },
  {
   "cell_type": "code",
   "execution_count": null,
   "metadata": {},
   "outputs": [],
   "source": [
    "import numpy as np\n",
    "corr = np.corrcoef(matrix)\n",
    "corr.shape"
   ]
  },
  {
   "cell_type": "markdown",
   "metadata": {},
   "source": [
    "# Modeling in Suprise"
   ]
  },
  {
   "cell_type": "code",
   "execution_count": null,
   "metadata": {},
   "outputs": [],
   "source": [
    "from surprise import Reader, Dataset\n",
    "\n",
    "# to load dataset from pandas df, we need `load_fromm_df` method in surprise lib\n",
    "\n",
    "ratings_dict = {'itemID': list(df.product_id),\n",
    "                'userID': list(df.customer_id),\n",
    "                'rating': list(df.star_rating)}\n",
    "df = pd.DataFrame(ratings_dict)\n",
    "\n",
    "# A reader is still needed but only the rating_scale param is required.\n",
    "# The Reader class is used to parse a file containing ratings.\n",
    "reader = Reader(rating_scale=(1, 5))\n",
    "\n",
    "# The columns must correspond to user id, item id and ratings (in that order).\n",
    "data = Dataset.load_from_df(df[['userID', 'itemID', 'rating']], reader)\n"
   ]
  },
  {
   "cell_type": "code",
   "execution_count": null,
   "metadata": {},
   "outputs": [],
   "source": [
    "###Using Suprise package\n",
    "# Split data into 5 folds\n",
    "\n",
    "data.split(n_folds=5)\n",
    "\n",
    "from surprise import SVD, evaluate\n",
    "from surprise import NMF, model_selection\n",
    "\n",
    "# svd\n",
    "algo = SVD()\n",
    "model_selection.cross_validate(algo, data, measures=['RMSE'])\n",
    "\n",
    "\n"
   ]
  },
  {
   "cell_type": "code",
   "execution_count": null,
   "metadata": {},
   "outputs": [],
   "source": [
    "# nmf\n",
    "algo = NMF()\n",
    "nmf_mod = model_selection.cross_validate(algo, data, measures=['RMSE'])\n",
    "nmf_mod.fit()"
   ]
  },
  {
   "cell_type": "code",
   "execution_count": null,
   "metadata": {},
   "outputs": [],
   "source": []
  },
  {
   "cell_type": "code",
   "execution_count": null,
   "metadata": {},
   "outputs": [],
   "source": [
    "def recommend_movies(predictions, userID, movies, original_ratings, num_recommendations):\n",
    "    \n",
    "    # Get and sort the user's predictions\n",
    "    user_row_number = userID - 1 # User ID starts at 1, not 0\n",
    "    sorted_user_predictions = preds.iloc[user_row_number].sort_values(ascending=False) # User ID starts at 1\n",
    "    \n",
    "    # Get the user's data and merge in the movie information.\n",
    "    user_data = original_ratings[original_ratings.user_id == (userID)]\n",
    "    user_full = (user_data.merge(movies, how = 'left', left_on = 'movie_id', right_on = 'movie_id').\n",
    "                     sort_values(['rating'], ascending=False)\n",
    "                 )\n",
    "    \n",
    "    # Recommend the highest predicted rating movies that the user hasn't seen yet.\n",
    "    recommendations = (movies[~movies['movie_id'].isin(user_full['movie_id'])].\n",
    "         merge(pd.DataFrame(sorted_user_predictions).reset_index(), how = 'left',\n",
    "               left_on = 'movie_id',\n",
    "               right_on = 'movie_id').\n",
    "         rename(columns = {user_row_number: 'Predictions'}).\n",
    "         sort_values('Predictions', ascending = False).\n",
    "                       iloc[:num_recommendations, :-1]\n",
    "                      )\n",
    "\n",
    "    return user_full, recommendations"
   ]
  }
 ],
 "metadata": {
  "kernelspec": {
   "display_name": "Python 3",
   "language": "python",
   "name": "python3"
  },
  "language_info": {
   "codemirror_mode": {
    "name": "ipython",
    "version": 3
   },
   "file_extension": ".py",
   "mimetype": "text/x-python",
   "name": "python",
   "nbconvert_exporter": "python",
   "pygments_lexer": "ipython3",
   "version": "3.6.5"
  }
 },
 "nbformat": 4,
 "nbformat_minor": 2
}
