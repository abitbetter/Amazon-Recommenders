{
 "cells": [
  {
   "cell_type": "code",
   "execution_count": null,
   "metadata": {},
   "outputs": [],
   "source": [
    "import pandas as pd\n",
    "from pandas.io.json import json_normalize\n",
    "import json\n",
    "import gzip as gz"
   ]
  },
  {
   "cell_type": "code",
   "execution_count": null,
   "metadata": {},
   "outputs": [],
   "source": [
    "def get_dict(path):\n",
    "  i = 0\n",
    "  df = {}\n",
    "  for d in parse(path):\n",
    "    df[i] = d\n",
    "    i += 1\n",
    "  return df"
   ]
  },
  {
   "cell_type": "code",
   "execution_count": null,
   "metadata": {},
   "outputs": [],
   "source": [
    "def flatten_all(dictionary):\n",
    "    out = {}\n",
    "    out['product_id'] = dictionary['asin']\n",
    "    if 'description' in dictionary.keys(): \n",
    "        out['description'] = dictionary['description']\n",
    "    else:\n",
    "        out['description'] = ''\n",
    "    if 'price' in dictionary.keys():\n",
    "        out['price'] = dictionary['price']\n",
    "    else:\n",
    "        out['price'] = ''\n",
    "    if 'salesRank' in dictionary.keys():\n",
    "        out['salesRank'] = dictionary['salesRank']['Books']\n",
    "    else:\n",
    "        out['salesRank'] = ''\n",
    "    if 'categories' in dictionary.keys():\n",
    "        out['categories'] = \",\".join(dictionary['categories'][0])\n",
    "    else:\n",
    "        out['categories'] = ''\n",
    "    if 'brand' in dictionary.keys():\n",
    "        out['brand'] = dictionary['brand']\n",
    "    else:\n",
    "        out['brand'] = ''\n",
    "    if 'related' in dictionary.keys():\n",
    "        if 'also_viewed' in dictionary['related'].keys():\n",
    "            out['also_viewed'] = \",\".join(dictionary['related']['also_viewed'])\n",
    "        else:\n",
    "            out['also_viewed'] = ''\n",
    "        if 'also_bought' in dictionary['related'].keys():\n",
    "            out['also_bought'] = \",\".join(dictionary['related']['also_bought'])\n",
    "        else:\n",
    "            out['also_bought'] = ''\n",
    "        if 'bought_together' in dictionary['related'].keys():\n",
    "            out['bought_together'] = \",\".join(dictionary['related']['bought_together'])\n",
    "        else:\n",
    "            out['bought_together'] = ''\n",
    "    else:\n",
    "        out['also_viewed'] = ''\n",
    "        out['also_bought'] = ''\n",
    "        out['bought_together'] = ''\n",
    "    return out"
   ]
  },
  {
   "cell_type": "code",
   "execution_count": null,
   "metadata": {},
   "outputs": [],
   "source": [
    "meta_dict = get_dict('C:/Users/arjun/OneDrive/Desktop/Georgetown Data Science Program/Capstone/Raw Data/meta_Books.gz')"
   ]
  },
  {
   "cell_type": "code",
   "execution_count": null,
   "metadata": {},
   "outputs": [],
   "source": [
    "final_df = pd.DataFrame()\n",
    "counter=0\n",
    "for x in meta_dict.keys():\n",
    "    try:\n",
    "        temp_flat = flatten_all(meta_dict[x])\n",
    "    except:\n",
    "        continue\n",
    "    temp_df = pd.DataFrame(temp_flat, index=[counter])\n",
    "    if not temp_flat:\n",
    "        pass\n",
    "    else:\n",
    "        final_df = final_df.append(temp_df)\n",
    "    counter+=1"
   ]
  }
 ],
 "metadata": {
  "kernelspec": {
   "display_name": "Python 3",
   "language": "python",
   "name": "python3"
  },
  "language_info": {
   "codemirror_mode": {
    "name": "ipython",
    "version": 3
   },
   "file_extension": ".py",
   "mimetype": "text/x-python",
   "name": "python",
   "nbconvert_exporter": "python",
   "pygments_lexer": "ipython3",
   "version": "3.6.5"
  }
 },
 "nbformat": 4,
 "nbformat_minor": 2
}
