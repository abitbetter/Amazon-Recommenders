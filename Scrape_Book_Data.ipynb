{
 "cells": [
  {
   "cell_type": "code",
   "execution_count": null,
   "metadata": {},
   "outputs": [],
   "source": [
    "import pandas as pd\n",
    "from bs4 import BeautifulSoup as bs\n",
    "import bs4\n",
    "import requests\n",
    "from pprint import pprint\n",
    "import nltk\n",
    "import Memory_Collaborative_Filtering as mem"
   ]
  },
  {
   "cell_type": "code",
   "execution_count": null,
   "metadata": {},
   "outputs": [],
   "source": [
    "def url_builder(book_title):\n",
    "    path = 'https://isbndb.com/search/books/'\n",
    "    title_list = book_title.split()\n",
    "    final_path_list=[]\n",
    "    for x in range(len(title_list)):\n",
    "        if x==len(title_list)-1:\n",
    "            final_path_list.append(title_list[x])\n",
    "        else:\n",
    "            final_path_list.append(title_list[x]+'%20')\n",
    "            \n",
    "    return path+''.join(final_path_list)"
   ]
  },
  {
   "cell_type": "code",
   "execution_count": null,
   "metadata": {},
   "outputs": [],
   "source": [
    "def retrieve_page_content(url):\n",
    "    page = requests.get(url)\n",
    "    return page.content"
   ]
  },
  {
   "cell_type": "code",
   "execution_count": null,
   "metadata": {},
   "outputs": [],
   "source": [
    "def tag_visible(element):\n",
    "    if element.parent.name in ['style', 'script', 'head', 'title', 'meta', '[document]']:\n",
    "        return False\n",
    "    if isinstance(element, bs4.element.Comment):\n",
    "        return False\n",
    "    return True\n",
    "\n",
    "\n",
    "def text_from_html(body):\n",
    "    soup = bs(body, 'html.parser')\n",
    "    texts = soup.findAll(text=True)\n",
    "    visible_texts = filter(tag_visible, texts)  \n",
    "    return u\" \".join(t.strip() for t in visible_texts)"
   ]
  },
  {
   "cell_type": "code",
   "execution_count": null,
   "metadata": {},
   "outputs": [],
   "source": [
    "def retrieve_author(book_title, product_id, html_text, index):\n",
    "    author='Cannot Locate'\n",
    "    html_text_list = html_text.split()\n",
    "    for x in range(len(html_text_list)):\n",
    "        if html_text_list[x]=='Authors:':\n",
    "            author=html_text_list[x+1]+' '+html_text_list[x+2]\n",
    "            break\n",
    "    author_dict = {'book_title': book_title, 'product_id': product_id, 'author': author}\n",
    "    author_table = pd.DataFrame(author_dict, index=[index])\n",
    "    return author_table"
   ]
  },
  {
   "cell_type": "code",
   "execution_count": 1,
   "metadata": {},
   "outputs": [],
   "source": [
    "def main(data):\n",
    "    final_authors=pd.DataFrame()\n",
    "    counter=0\n",
    "    for x in range(len(data)):\n",
    "        counter+=1\n",
    "        url=url_builder(data['product_title'][x])\n",
    "        print(url)\n",
    "        html=retrieve_page_content(url)\n",
    "        text_html=text_from_html(html)\n",
    "        author = retrieve_author(data['product_title'][x], data['product_id'][x], text_html, counter)\n",
    "        final_authors = final_authors.append(author)\n",
    "    return final_authors"
   ]
  },
  {
   "cell_type": "code",
   "execution_count": null,
   "metadata": {},
   "outputs": [],
   "source": [
    "worm_path = 'C:/Users/arjun/Desktop/amazon.db'\n",
    "review_data = mem.import_standard_data(worm_path)"
   ]
  },
  {
   "cell_type": "code",
   "execution_count": null,
   "metadata": {},
   "outputs": [],
   "source": [
    "products = review_data[['product_id', 'product_title']]\n",
    "products = products.drop_duplicates()\n",
    "products = products.reset_index(drop=True)"
   ]
  }
 ],
 "metadata": {
  "kernelspec": {
   "display_name": "Python 3",
   "language": "python",
   "name": "python3"
  },
  "language_info": {
   "codemirror_mode": {
    "name": "ipython",
    "version": 3
   },
   "file_extension": ".py",
   "mimetype": "text/x-python",
   "name": "python",
   "nbconvert_exporter": "python",
   "pygments_lexer": "ipython3",
   "version": "3.6.5"
  }
 },
 "nbformat": 4,
 "nbformat_minor": 2
}
