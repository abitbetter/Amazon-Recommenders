{
 "cells": [
  {
   "cell_type": "code",
   "execution_count": 3,
   "metadata": {},
   "outputs": [],
   "source": [
    "import pandas as pd\n",
    "from bs4 import BeautifulSoup as bs\n",
    "import bs4\n",
    "import requests\n",
    "from pprint import pprint\n",
    "import Memory_Collaborative_Filtering as mem\n",
    "import sqlite3 as sql"
   ]
  },
  {
   "cell_type": "code",
   "execution_count": null,
   "metadata": {},
   "outputs": [],
   "source": [
    "def url_builder_1(book_title):\n",
    "    path = 'https://isbndb.com/search/books/'\n",
    "    title_list = book_title.split()\n",
    "    final_path_list=[]\n",
    "    for x in range(len(title_list)):\n",
    "        if x==len(title_list)-1:\n",
    "            final_path_list.append(title_list[x])\n",
    "        else:\n",
    "            final_path_list.append(title_list[x]+'%20')\n",
    "            \n",
    "    return path+''.join(final_path_list)"
   ]
  },
  {
   "cell_type": "code",
   "execution_count": null,
   "metadata": {},
   "outputs": [],
   "source": [
    "def url_builder_2(isbn13):\n",
    "    path = \"https://isbndb.com/book/\"\n",
    "    return path+isbn13"
   ]
  },
  {
   "cell_type": "code",
   "execution_count": null,
   "metadata": {},
   "outputs": [],
   "source": [
    "def retrieve_page_content(url):\n",
    "    page = requests.get(url)\n",
    "    return page.content"
   ]
  },
  {
   "cell_type": "code",
   "execution_count": null,
   "metadata": {},
   "outputs": [],
   "source": [
    "def tag_visible(element):\n",
    "    if element.parent.name in ['style', 'script', 'head', 'title', 'meta', '[document]']:\n",
    "        return False\n",
    "    if isinstance(element, bs4.element.Comment):\n",
    "        return False\n",
    "    return True\n",
    "\n",
    "\n",
    "def text_from_html(body):\n",
    "    soup = bs(body, 'html.parser')\n",
    "    texts = soup.findAll(text=True)\n",
    "    visible_texts = filter(tag_visible, texts)  \n",
    "    return u\" \".join(t.strip() for t in visible_texts)"
   ]
  },
  {
   "cell_type": "code",
   "execution_count": null,
   "metadata": {},
   "outputs": [],
   "source": [
    "def retrieve_author(book_title, product_id, html_text, index):\n",
    "    author='Cannot Locate'\n",
    "    html_text_list = html_text.split()\n",
    "    for x in range(len(html_text_list)):\n",
    "        if html_text_list[x]=='Authors:':\n",
    "            author=html_text_list[x+1]+' '+html_text_list[x+2]\n",
    "            break\n",
    "    author_dict = {'book_title': book_title, 'product_id': product_id, 'author': author}\n",
    "    author_table = pd.DataFrame(author_dict, index=[index])\n",
    "    return author_table"
   ]
  },
  {
   "cell_type": "code",
   "execution_count": null,
   "metadata": {},
   "outputs": [],
   "source": [
    "def retrieve_isbn13(book_title, product_id, html_text, index):\n",
    "    isbn13 = 'Cannot Locate'\n",
    "    html_text_list = html_text.split()\n",
    "    for x in range(len(html_text_list)):\n",
    "        if html_text_list[x]=='ISBN13:':\n",
    "            isbn13= html_text_list[x+1]\n",
    "            break\n",
    "    isbn13_dict = {'book_title': book_title, 'product_id':product_id, 'ISBN13':isbn13}\n",
    "    isbn13_table = pd.DataFrame(isbn13_dict, index=[index])\n",
    "    return isbn13_table"
   ]
  },
  {
   "cell_type": "code",
   "execution_count": null,
   "metadata": {},
   "outputs": [],
   "source": [
    "def main_author(data):\n",
    "    final_authors=pd.DataFrame()\n",
    "    counter=0\n",
    "    for x in range(len(data)):\n",
    "        try:\n",
    "            counter+=1\n",
    "            url=url_builder_1(data['product_title'][x])\n",
    "            html=retrieve_page_content(url)\n",
    "            text_html=text_from_html(html)\n",
    "            author = retrieve_author(data['product_title'][x], data['product_id'][x], text_html, counter)\n",
    "            final_authors = final_authors.append(author)\n",
    "            print(counter)\n",
    "        except:\n",
    "            pass\n",
    "    return final_authors"
   ]
  },
  {
   "cell_type": "code",
   "execution_count": null,
   "metadata": {},
   "outputs": [],
   "source": [
    "def retrieve_book_category(book_title, product_id, html_text, index):\n",
    "    book_category = 'Cannot Locate'\n",
    "    html_text_list = html_text.split()\n",
    "    for x in range(len(html_text_list)):\n",
    "        if html_text_list[x]=='Subjects':\n",
    "            book_categories = html_text_list[x+1]+', '+html_text_list[x+2]+', '+html_text_list[x+3]\n",
    "            break\n",
    "    book_categories_dict = {'book_title': book_title, 'product_id':product_id, 'book_category':book_categories}\n",
    "    book_categories_table = pd.DataFrame(book_categories_dict, index=[index])\n",
    "    return book_categories_table"
   ]
  },
  {
   "cell_type": "code",
   "execution_count": null,
   "metadata": {},
   "outputs": [],
   "source": [
    "def main_categories(data):\n",
    "    counter=0\n",
    "    book_categories=pd.DataFrame()\n",
    "    for x in range(len(data)):\n",
    "        try:\n",
    "            counter+=1\n",
    "            url=url_builder_1(data['product_title'][x])\n",
    "            html=retrieve_page_content(url)\n",
    "            text_html=text_from_html(html)\n",
    "            isbn13 = retrieve_isbn13(data['product_title'][x], data['product_id'][x], text_html, counter)\n",
    "            url2=url_builder_2(isbn13.iloc[0]['ISBN13'])\n",
    "            html2=retrieve_page_content(url2)\n",
    "            text_html2=text_from_html(html2)\n",
    "            \n",
    "            category=retrieve_book_category(data['product_title'][x], data['product_id'][x], text_html2, counter)\n",
    "            book_categories = book_categories.append(category)\n",
    "            print(counter)\n",
    "        except:\n",
    "            pass\n",
    "    return book_categories"
   ]
  }
 ],
 "metadata": {
  "kernelspec": {
   "display_name": "Python 3",
   "language": "python",
   "name": "python3"
  },
  "language_info": {
   "codemirror_mode": {
    "name": "ipython",
    "version": 3
   },
   "file_extension": ".py",
   "mimetype": "text/x-python",
   "name": "python",
   "nbconvert_exporter": "python",
   "pygments_lexer": "ipython3",
   "version": "3.6.5"
  }
 },
 "nbformat": 4,
 "nbformat_minor": 2
}
