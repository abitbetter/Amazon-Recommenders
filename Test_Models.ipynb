{
 "cells": [
  {
   "cell_type": "code",
   "execution_count": 1,
   "metadata": {},
   "outputs": [],
   "source": [
    "import pandas as pd\n",
    "import numpy as np\n",
    "import os\n",
    "import Memory_Collaborative_Filtering as mem\n",
    "import sqlite3 as sql\n",
    "import sklearn \n",
    "from sklearn.neighbors import NearestNeighbors\n",
    "from scipy.sparse import csr_matrix\n",
    "import pickle"
   ]
  },
  {
   "cell_type": "code",
   "execution_count": 2,
   "metadata": {},
   "outputs": [],
   "source": [
    "worm_path = 'C:/Users/arjun/Desktop/amazon.db'\n",
    "freq_path = 'C:/Users/arjun/Desktop/frequency_rankings.db'\n",
    "meta_path = 'C:/users/arjun/Desktop/test.csv'"
   ]
  },
  {
   "cell_type": "code",
   "execution_count": 4,
   "metadata": {},
   "outputs": [],
   "source": [
    "review_data = mem.import_standard_data(worm_path)"
   ]
  },
  {
   "cell_type": "code",
   "execution_count": 5,
   "metadata": {},
   "outputs": [],
   "source": [
    "top_product_counts = mem.import_product_frequency_data(freq_path)"
   ]
  },
  {
   "cell_type": "code",
   "execution_count": 6,
   "metadata": {},
   "outputs": [],
   "source": [
    "product_metadata = pd.read_csv(meta_path)"
   ]
  },
  {
   "cell_type": "code",
   "execution_count": 25,
   "metadata": {},
   "outputs": [
    {
     "name": "stderr",
     "output_type": "stream",
     "text": [
      "C:\\Users\\arjun\\Anaconda3\\lib\\site-packages\\ipykernel_launcher.py:2: SettingWithCopyWarning: \n",
      "A value is trying to be set on a copy of a slice from a DataFrame.\n",
      "Try using .loc[row_indexer,col_indexer] = value instead\n",
      "\n",
      "See the caveats in the documentation: http://pandas.pydata.org/pandas-docs/stable/indexing.html#indexing-view-versus-copy\n",
      "  \n",
      "C:\\Users\\arjun\\Anaconda3\\lib\\site-packages\\ipykernel_launcher.py:3: SettingWithCopyWarning: \n",
      "A value is trying to be set on a copy of a slice from a DataFrame.\n",
      "Try using .loc[row_indexer,col_indexer] = value instead\n",
      "\n",
      "See the caveats in the documentation: http://pandas.pydata.org/pandas-docs/stable/indexing.html#indexing-view-versus-copy\n",
      "  This is separate from the ipykernel package so we can avoid doing imports until\n"
     ]
    }
   ],
   "source": [
    "wrangled_review_data = review_data.drop_duplicates(['customer_id', 'product_id'])\n",
    "wrangled_review_data['star_rating'] = wrangled_review_data['star_rating'].astype(int)\n",
    "wrangled_review_data['review_length'] = wrangled_review_data['review_body'].str.count(' ') + 1\n",
    "wrangled_review_data = wrangled_review_data.drop(['customer_id'], axis=1)\n",
    "wrangled_review_data = wrangled_review_data.drop_duplicates()\n",
    "wrangled_review_data = wrangled_review_data.reset_index(drop=True)"
   ]
  },
  {
   "cell_type": "code",
   "execution_count": 26,
   "metadata": {},
   "outputs": [],
   "source": [
    "final_product_data = pd.merge(wrangled_review_data, top_product_counts, left_on='product_id', right_on='product_id', how='inner')\n",
    "final_product_data = pd.merge(final_product_data, product_metadata, left_on='product_id', right_on='product_id', how='left')\n",
    "final_product_data = final_product_data[['product_id', 'star_rating', 'helpful_votes', 'review_length', 'counts', 'price', 'salesRank']]"
   ]
  },
  {
   "cell_type": "code",
   "execution_count": 27,
   "metadata": {},
   "outputs": [],
   "source": [
    "final_product_data = final_product_data.dropna()\n",
    "final_product_data = final_product_data[['star_rating', 'helpful_votes', 'review_length', 'counts', 'price', 'salesRank']]"
   ]
  },
  {
   "cell_type": "code",
   "execution_count": 28,
   "metadata": {},
   "outputs": [],
   "source": [
    "nbrs = NearestNeighbors(n_neighbors=6, algorithm = 'ball_tree').fit(final_product_data)"
   ]
  },
  {
   "cell_type": "code",
   "execution_count": 29,
   "metadata": {},
   "outputs": [],
   "source": [
    "def get_index_from_name(name, review_data):\n",
    "    return review_data[review_data[\"product_title\"]==name].index.tolist()[0]"
   ]
  },
  {
   "cell_type": "code",
   "execution_count": 30,
   "metadata": {},
   "outputs": [],
   "source": [
    "def get_id_from_partial_name(partial):\n",
    "    for name in all_anime_names:\n",
    "        if partial in name:\n",
    "            print(name,all_anime_names.index(name))"
   ]
  },
  {
   "cell_type": "code",
   "execution_count": 31,
   "metadata": {},
   "outputs": [],
   "source": [
    "def print_similar_books(review_data, query=None,id=None, model=None):\n",
    "    distances2, indices2 = model.kneighbors()\n",
    "    if id:\n",
    "        for id in indices2[id][1:]:\n",
    "            print(review_data.iloc[id][\"product_title\"])\n",
    "    if query:\n",
    "        found_id = get_index_from_name(query, review_data)\n",
    "        for id in indices2[found_id][1:]:\n",
    "            print(review_data.iloc[id][\"product_title\"])"
   ]
  },
  {
   "cell_type": "code",
   "execution_count": 32,
   "metadata": {},
   "outputs": [
    {
     "name": "stdout",
     "output_type": "stream",
     "text": [
      "   product_id                                      product_title  \\\n",
      "0  080072433X                            Trial Run (Fault Lines)   \n",
      "1  043985654X          How Do Dinosaurs Play with Their Friends?   \n",
      "2  075700394X  Sodium Bicarbonate: Nature's Unique First Aid ...   \n",
      "3  0399142789  Conversations with God: An Uncommon Dialogue, ...   \n",
      "4  1844839737  The Big Book of Juices: More Than 400 Natural ...   \n",
      "\n",
      "                                         review_body  star_rating  \\\n",
      "0  This book I actually had a hard time with. I p...            3   \n",
      "1                       nice book for young children            5   \n",
      "2                                        Excellent--            5   \n",
      "3  LOVE this book. Read before in the 90's and wa...            5   \n",
      "4                                               good            5   \n",
      "\n",
      "   helpful_votes  review_length  \n",
      "0            0.0            277  \n",
      "1            0.0              5  \n",
      "2            0.0              1  \n",
      "3            0.0             25  \n",
      "4            0.0              1  \n"
     ]
    }
   ],
   "source": [
    "test_recs = wrangled_review_data.head(5)"
   ]
  },
  {
   "cell_type": "code",
   "execution_count": 33,
   "metadata": {},
   "outputs": [
    {
     "name": "stdout",
     "output_type": "stream",
     "text": [
      "Trial Run (Fault Lines) recommendations:\n",
      "The Pioneer Woman Cooks: Food from My Frontier\n",
      "Kafka on the Shore\n",
      "American Born Chinese\n",
      "Doctor Sleep\n",
      "Frozen Little Golden Book (Disney Frozen)\n",
      "How Do Dinosaurs Play with Their Friends? recommendations:\n",
      "Doctor Sleep: A Novel\n",
      "How to Babysit a Grandma\n",
      "Manwhore +1 (The Manwhore Series)\n",
      "Dead Doctors Don't Lie\n",
      "Pegasus: A Novel\n",
      "Sodium Bicarbonate: Nature's Unique First Aid Remedy recommendations:\n",
      "Quiet: The Power of Introverts in a World That Can't Stop Talking\n",
      "The Dream Lover: A Novel\n",
      "American Born Chinese\n",
      "My Struggle: Book 1\n",
      "Alive: Book One of the Generations Trilogy\n",
      "Conversations with God: An Uncommon Dialogue, Book 1 recommendations:\n",
      "Missoula: Rape and the Justice System in a College Town\n",
      "Dark Places\n",
      "A Shade Of Vampire\n",
      "Wonder\n",
      "Curious George Goes Camping\n",
      "The Big Book of Juices: More Than 400 Natural Blends for Health and Vitality Every Day recommendations:\n",
      "Alive: Book One of the Generations Trilogy\n",
      "I'll Give You the Sun\n",
      "Practice to Deceive\n",
      "All the Bright Places\n",
      "Trial Run (Fault Lines)\n"
     ]
    }
   ],
   "source": [
    "for book in test_recs['product_title']:\n",
    "    print(book + \" recommendations:\")\n",
    "    print_similar_books(wrangled_review_data, query=book, model=nbrs)"
   ]
  },
  {
   "cell_type": "code",
   "execution_count": null,
   "metadata": {},
   "outputs": [],
   "source": []
  }
 ],
 "metadata": {
  "kernelspec": {
   "display_name": "Python 3",
   "language": "python",
   "name": "python3"
  },
  "language_info": {
   "codemirror_mode": {
    "name": "ipython",
    "version": 3
   },
   "file_extension": ".py",
   "mimetype": "text/x-python",
   "name": "python",
   "nbconvert_exporter": "python",
   "pygments_lexer": "ipython3",
   "version": "3.6.5"
  }
 },
 "nbformat": 4,
 "nbformat_minor": 2
}
