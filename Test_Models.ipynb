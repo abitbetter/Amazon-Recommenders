{
 "cells": [
  {
   "cell_type": "code",
   "execution_count": null,
   "metadata": {},
   "outputs": [],
   "source": [
    "import pandas as pd\n",
    "import Memory_Collaborative_Filtering as mem\n",
    "import sqlite3 as sql\n",
    "import sklearn \n",
    "from sklearn.neighbors import NearestNeighbors\n",
    "from scipy.sparse import csr_matrix\n",
    "import pickle\n",
    "import sqlite3 as sql"
   ]
  },
  {
   "cell_type": "code",
   "execution_count": null,
   "metadata": {},
   "outputs": [],
   "source": [
    "worm_path = 'C:/Users/arjun/Desktop/amazon.db'\n",
    "freq_path = 'C:/Users/arjun/Desktop/frequency_rankings.db'\n",
    "meta_path = 'C:/users/arjun/Desktop/test.csv'"
   ]
  },
  {
   "cell_type": "code",
   "execution_count": null,
   "metadata": {},
   "outputs": [],
   "source": [
    "review_data = mem.import_standard_data(worm_path)"
   ]
  },
  {
   "cell_type": "code",
   "execution_count": null,
   "metadata": {},
   "outputs": [],
   "source": [
    "top_product_counts = mem.import_product_frequency_data(freq_path)"
   ]
  },
  {
   "cell_type": "code",
   "execution_count": null,
   "metadata": {},
   "outputs": [],
   "source": [
    "product_metadata = pd.read_csv(meta_path)\n",
    "product_metadata.to_csv('C:/users/arjun/Desktop/product_metadata.csv')"
   ]
  },
  {
   "cell_type": "code",
   "execution_count": null,
   "metadata": {},
   "outputs": [],
   "source": [
    "wrangled_review_data = review_data.drop_duplicates(['customer_id', 'product_id'])\n",
    "wrangled_review_data['star_rating'] = wrangled_review_data['star_rating'].astype(int)\n",
    "wrangled_review_data['review_length'] = wrangled_review_data['review_body'].str.count(' ') + 1\n",
    "wrangled_review_data = wrangled_review_data.drop(['customer_id'], axis=1)\n",
    "wrangled_review_data = wrangled_review_data.drop_duplicates()\n",
    "wrangled_review_data = wrangled_review_data.reset_index(drop=True)"
   ]
  },
  {
   "cell_type": "code",
   "execution_count": null,
   "metadata": {},
   "outputs": [],
   "source": [
    "final_product_data = pd.merge(wrangled_review_data, top_product_counts, left_on='product_id', right_on='product_id', how='inner')\n",
    "final_product_data = pd.merge(final_product_data, product_metadata, left_on='product_id', right_on='product_id', how='left')\n",
    "final_product_data = final_product_data[['product_id', 'star_rating', 'helpful_votes', 'review_length', 'counts', 'price', 'salesRank']]"
   ]
  },
  {
   "cell_type": "code",
   "execution_count": null,
   "metadata": {},
   "outputs": [],
   "source": [
    "final_product_data = final_product_data.dropna()\n",
    "final_product_data = final_product_data[['star_rating', 'helpful_votes', 'review_length', 'counts', 'price', 'salesRank']]"
   ]
  },
  {
   "cell_type": "code",
   "execution_count": null,
   "metadata": {},
   "outputs": [],
   "source": [
    "nbrs = NearestNeighbors(n_neighbors=6, algorithm = 'ball_tree').fit(final_product_data)"
   ]
  },
  {
   "cell_type": "code",
   "execution_count": null,
   "metadata": {},
   "outputs": [],
   "source": [
    "def get_index_from_name(name, review_data):\n",
    "    return review_data[review_data[\"product_title\"]==name].index.tolist()[0]"
   ]
  },
  {
   "cell_type": "code",
   "execution_count": null,
   "metadata": {},
   "outputs": [],
   "source": [
    "def print_similar_books(review_data, query=None,id=None, model=None):\n",
    "    distances2, indices2 = model.kneighbors()\n",
    "    if id:\n",
    "        for id in indices2[id][1:]:\n",
    "            print(review_data.iloc[id][\"product_title\"])\n",
    "    if query:\n",
    "        found_id = get_index_from_name(query, review_data)\n",
    "        for id in indices2[found_id][1:]:\n",
    "            print(review_data.iloc[id][\"product_title\"])"
   ]
  },
  {
   "cell_type": "code",
   "execution_count": null,
   "metadata": {},
   "outputs": [],
   "source": [
    "test_recs = wrangled_review_data.head(5)\n",
    "print(test_recs)"
   ]
  },
  {
   "cell_type": "code",
   "execution_count": null,
   "metadata": {},
   "outputs": [],
   "source": [
    "for book in test_recs['product_title']:\n",
    "    print(book + \" recommendations:\")\n",
    "    print_similar_books(wrangled_review_data, query=book, model=nbrs)"
   ]
  }
 ],
 "metadata": {
  "kernelspec": {
   "display_name": "Python 3",
   "language": "python",
   "name": "python3"
  },
  "language_info": {
   "codemirror_mode": {
    "name": "ipython",
    "version": 3
   },
   "file_extension": ".py",
   "mimetype": "text/x-python",
   "name": "python",
   "nbconvert_exporter": "python",
   "pygments_lexer": "ipython3",
   "version": "3.6.5"
  }
 },
 "nbformat": 4,
 "nbformat_minor": 2
}
