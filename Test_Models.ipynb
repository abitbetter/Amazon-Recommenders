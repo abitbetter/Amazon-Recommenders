{
 "cells": [
  {
   "cell_type": "code",
   "execution_count": 1,
   "metadata": {},
   "outputs": [],
   "source": [
    "import pandas as pd\n",
    "import numpy as np\n",
    "import os\n",
    "import Memory_Collaborative_Filtering as mem\n",
    "import sqlite3 as sql\n",
    "import sklearn \n",
    "from sklearn.neighbors import NearestNeighbors\n",
    "from scipy.sparse import csr_matrix\n",
    "import pickle"
   ]
  },
  {
   "cell_type": "code",
   "execution_count": 2,
   "metadata": {},
   "outputs": [],
   "source": [
    "path = 'C:/Users/arjun/Desktop/amazon.db'\n",
    "path2 = 'C:/Users/arjun/Desktop/frequency_rankings.db'"
   ]
  },
  {
   "cell_type": "code",
   "execution_count": 30,
   "metadata": {},
   "outputs": [],
   "source": [
    "review_data = mem.import_standard_data(path)\n",
    "review_data = review_data.drop_duplicates(['customer_id', 'product_id'])\n",
    "review_data['star_rating'] = review_data['star_rating'].astype(int)\n",
    "review_data['review_length'] = review_data['review_body'].str.count(' ') + 1\n",
    "review_data = pd.merge(review_data, user_counts_top_10000, left_on='customer_id', right_on='customer_id', how='inner')"
   ]
  },
  {
   "cell_type": "code",
   "execution_count": 34,
   "metadata": {},
   "outputs": [
    {
     "name": "stdout",
     "output_type": "stream",
     "text": [
      "Index(['customer_id', 'product_id', 'product_title', 'review_body',\n",
      "       'star_rating', 'review_length', 'counts'],\n",
      "      dtype='object')\n"
     ]
    }
   ],
   "source": [
    "print(review_data.columns)"
   ]
  },
  {
   "cell_type": "code",
   "execution_count": 35,
   "metadata": {},
   "outputs": [],
   "source": [
    "final = review_data[['star_rating', 'review_length', 'counts']]"
   ]
  },
  {
   "cell_type": "code",
   "execution_count": 36,
   "metadata": {},
   "outputs": [],
   "source": [
    "nbrs = NearestNeighbors(n_neighbors=6, algorithm = 'ball_tree').fit(final)"
   ]
  },
  {
   "cell_type": "code",
   "execution_count": 37,
   "metadata": {},
   "outputs": [],
   "source": [
    "distances2, indices2 = nbrs.kneighbors(final)"
   ]
  },
  {
   "cell_type": "code",
   "execution_count": 65,
   "metadata": {},
   "outputs": [
    {
     "name": "stdout",
     "output_type": "stream",
     "text": [
      "[[0.         1.         1.41421356 2.         2.23606798 2.44948974]\n",
      " [0.         2.         2.23606798 2.44948974 3.         3.        ]\n",
      " [0.         1.41421356 1.41421356 1.73205081 2.         2.23606798]\n",
      " ...\n",
      " [0.         1.41421356 1.41421356 1.73205081 2.         2.        ]\n",
      " [0.         0.         1.         1.         1.         1.        ]\n",
      " [0.         0.         0.         0.         1.41421356 1.41421356]]\n"
     ]
    }
   ],
   "source": [
    "print(distances2)"
   ]
  },
  {
   "cell_type": "code",
   "execution_count": 66,
   "metadata": {},
   "outputs": [
    {
     "name": "stdout",
     "output_type": "stream",
     "text": [
      "[[    0 43729 77521  8670 86416 21334]\n",
      " [    1    24  8679 29255 66676 75077]\n",
      " [    2    85 77538 22943    69 15690]\n",
      " ...\n",
      " [95767 70782 46372 37504 90168 78011]\n",
      " [95768 95437 20262 23057 43912 42786]\n",
      " [20245 95769 80713 43909  9274 65139]]\n"
     ]
    }
   ],
   "source": [
    "print(indices2)"
   ]
  },
  {
   "cell_type": "code",
   "execution_count": 55,
   "metadata": {},
   "outputs": [],
   "source": [
    "def get_index_from_name(name):\n",
    "    return review_data[review_data[\"product_title\"]==name].index.tolist()[0]"
   ]
  },
  {
   "cell_type": "code",
   "execution_count": 56,
   "metadata": {},
   "outputs": [],
   "source": [
    "def get_id_from_partial_name(partial):\n",
    "    for name in all_anime_names:\n",
    "        if partial in name:\n",
    "            print(name,all_anime_names.index(name))"
   ]
  },
  {
   "cell_type": "code",
   "execution_count": 57,
   "metadata": {},
   "outputs": [],
   "source": [
    "def print_similar_books(query=None,id=None, model):\n",
    "    distances2, indices2 = model.kneighbors()\n",
    "    if id:\n",
    "        for id in indices2[id][1:]:\n",
    "            print(review_data.ix[id][\"product_title\"])\n",
    "    if query:\n",
    "        found_id = get_index_from_name(query)\n",
    "        for id in indices2[found_id][1:]:\n",
    "            print(review_data.ix[id][\"product_title\"])"
   ]
  },
  {
   "cell_type": "code",
   "execution_count": 63,
   "metadata": {},
   "outputs": [
    {
     "name": "stdout",
     "output_type": "stream",
     "text": [
      "The Curious Incident of the Dog in the Night-Time\n",
      "Waiting On You (Blue Heron)\n",
      "Istanbul Passage: A Novel\n",
      "The Innocent: A Novel\n",
      "The Witch with No Name\n"
     ]
    },
    {
     "name": "stderr",
     "output_type": "stream",
     "text": [
      "C:\\Users\\arjun\\Anaconda3\\lib\\site-packages\\ipykernel_launcher.py:8: DeprecationWarning: \n",
      ".ix is deprecated. Please use\n",
      ".loc for label based indexing or\n",
      ".iloc for positional indexing\n",
      "\n",
      "See the documentation here:\n",
      "http://pandas.pydata.org/pandas-docs/stable/indexing.html#ix-indexer-is-deprecated\n",
      "  \n"
     ]
    }
   ],
   "source": [
    "print_similar_books(query=\"The Choice\")"
   ]
  },
  {
   "cell_type": "code",
   "execution_count": 64,
   "metadata": {},
   "outputs": [],
   "source": [
    "filename = 'finalized_model.sav'\n",
    "pickle.dump(nbrs, open(filename, 'wb'))"
   ]
  },
  {
   "cell_type": "code",
   "execution_count": null,
   "metadata": {},
   "outputs": [],
   "source": []
  },
  {
   "cell_type": "code",
   "execution_count": 62,
   "metadata": {},
   "outputs": [
    {
     "name": "stdout",
     "output_type": "stream",
     "text": [
      "0                                 Trial Run (Fault Lines)\n",
      "1                  Through Waters Deep (Waves of Freedom)\n",
      "2       Secret Garden: An Inky Treasure Hunt and Color...\n",
      "3                                         A Bride at Last\n",
      "4       Among the Fair Magnolias: Four Southern Love S...\n",
      "5                                           Summer's List\n",
      "6                                   The Innocent: A Novel\n",
      "7       Once Upon a Summertime: A New York City Romanc...\n",
      "8            Two Roads Home: A Chicory Inn Novel - Book 2\n",
      "9                     Hearts Made Whole (Beacons of Hope)\n",
      "10                                           Fatal Trauma\n",
      "11      The Proposal at Siesta Key: Amish Brides of Pi...\n",
      "12      Every Bride Needs a Groom: A Novel (Brides wit...\n",
      "13      A Sparrow in Terezin (A Hidden Masterpiece Novel)\n",
      "14           How to Catch a Prince (Royal Wedding Series)\n",
      "15      NKJV, Duck Commander Faith and Family Bible, H...\n",
      "16      Shadows of the Past: A Novel (Logan Point) (Vo...\n",
      "17      Dare to Love Again: A Novel (The Heart of San ...\n",
      "18      No One to Trust: A Novel (Hidden Identity) (Vo...\n",
      "19      Love at Any Cost: A Novel (The Heart of San Fr...\n",
      "20                Moonlight Masquerade: A Regency Romance\n",
      "21      Goodbye to Yesterday: Part 1 (The Discovery - ...\n",
      "22      The Dilemma of Charlotte Farrow: A Novel (Aven...\n",
      "23              Waiting for Spring (Westward Winds, Bk 2)\n",
      "24         Vanished: A Novel (Private Justice) (Volume 1)\n",
      "25      Twelve Unlikely Heroes: How God Commissioned U...\n",
      "26                             A Promise to Love: A Novel\n",
      "27      When a Heart Stops: A Novel (Deadly Reunions) ...\n",
      "28      Life with Lily (The Adventures of Lily Lapp) (...\n",
      "29         Love Surrendered, A: A Novel (Winds of Change)\n",
      "                              ...                        \n",
      "9970                                           The Choice\n",
      "9971                              Rare Earth (Marc Royce)\n",
      "9972                                Through Rushing Water\n",
      "9973    Lethal Legacy: A Novel (Guardians of Justice) ...\n",
      "9974                                     Love in Disguise\n",
      "9975                                       VEIL OF PEARLS\n",
      "9976             Inescapable (Road to Kingdom) (Volume 1)\n",
      "9977            Wedded to War (Heroines Behind the Lines)\n",
      "9978    Touching the Sky (Land of the Lone Star) (Volu...\n",
      "9979                                         Hope Springs\n",
      "9980               Submerged (Alaskan Courage) (Volume 1)\n",
      "9981      Lucy Come Home (Yada Yada House of Hope Series)\n",
      "9982     Glamorous Illusions: A Novel (Grand Tour Series)\n",
      "9983                         Wallflower in Bloom: A Novel\n",
      "9984                                    Harvest of Rubies\n",
      "9985    Chasing the Sun (Land of the Lone Star) (Volum...\n",
      "9986    Hiking Through: One Man's Journey to Peace and...\n",
      "9987    The Pursuit of Lucy Banning: A Novel (Avenue o...\n",
      "9988                                    My Stubborn Heart\n",
      "9989    Spirit Wars: Winning the Invisible Battle Agai...\n",
      "9990    The Boys in the Boat: Nine Americans and Their...\n",
      "9991                                               Wonder\n",
      "9992            Mr. Penumbra's 24-Hour Bookstore: A Novel\n",
      "9993                               The Invention of Wings\n",
      "9994    The River of Doubt: Theodore Roosevelt's Darke...\n",
      "9995    In the Heart of the Sea: The Tragedy of the Wh...\n",
      "9996                            A Man Called Ove: A Novel\n",
      "9997                               The Racketeer: A Novel\n",
      "9998                      John Wayne: The Genuine Article\n",
      "9999                          Bob Warden's Slow Food Fast\n",
      "Name: product_title, Length: 10000, dtype: object\n"
     ]
    }
   ],
   "source": [
    "print(review_data['product_title'].head(10000))"
   ]
  },
  {
   "cell_type": "code",
   "execution_count": null,
   "metadata": {},
   "outputs": [],
   "source": []
  },
  {
   "cell_type": "code",
   "execution_count": null,
   "metadata": {},
   "outputs": [],
   "source": []
  },
  {
   "cell_type": "code",
   "execution_count": null,
   "metadata": {},
   "outputs": [],
   "source": [
    "review_data_pivot = review_data.pivot(index = 'product_id', columns = 'customer_id', values = 'star_rating').fillna(0)\n",
    "review_data_matrix = csr_matrix(review_data_pivot.values)"
   ]
  },
  {
   "cell_type": "code",
   "execution_count": 19,
   "metadata": {},
   "outputs": [
    {
     "data": {
      "text/plain": [
       "NearestNeighbors(algorithm='brute', leaf_size=30, metric='cosine',\n",
       "         metric_params=None, n_jobs=1, n_neighbors=5, p=2, radius=1.0)"
      ]
     },
     "execution_count": 19,
     "metadata": {},
     "output_type": "execute_result"
    }
   ],
   "source": [
    "model_knn = NearestNeighbors(metric = 'cosine', algorithm = 'brute')\n",
    "model_knn.fit(review_data_matrix)"
   ]
  },
  {
   "cell_type": "code",
   "execution_count": 20,
   "metadata": {},
   "outputs": [],
   "source": [
    "query_index = review_data_pivot[1:].shape[0]"
   ]
  },
  {
   "cell_type": "code",
   "execution_count": 21,
   "metadata": {},
   "outputs": [
    {
     "name": "stdout",
     "output_type": "stream",
     "text": [
      "Recommendations for B00MPREWL4:\n",
      "\n",
      "1: 0515154113, with distance of 0.5648058601107555:\n",
      "2: 1416549595, with distance of 0.5917517095361371:\n",
      "3: 1455577847, with distance of 0.5917517095361371:\n",
      "4: 0385739176, with distance of 0.7113248654051871:\n"
     ]
    }
   ],
   "source": [
    "distances, indices = model_knn.kneighbors(review_data_pivot.iloc[[query_index]], n_neighbors = 5)\n",
    "\n",
    "for i in range(0, len(distances.flatten())):\n",
    "    if i == 0:\n",
    "        print('Recommendations for {0}:\\n'.format(review_data_pivot.index[query_index]))\n",
    "    else:\n",
    "        print('{0}: {1}, with distance of {2}:'.format(i, review_data_pivot.index[indices.flatten()[i]], distances.flatten()[i]))"
   ]
  },
  {
   "cell_type": "code",
   "execution_count": 22,
   "metadata": {},
   "outputs": [
    {
     "name": "stdout",
     "output_type": "stream",
     "text": [
      "9254\n"
     ]
    }
   ],
   "source": [
    "test = review_data['product_id']\n",
    "test = test.drop_duplicates()\n",
    "test = test.reset_index(drop=True)\n",
    "print(len(test))"
   ]
  },
  {
   "cell_type": "code",
   "execution_count": null,
   "metadata": {},
   "outputs": [],
   "source": []
  }
 ],
 "metadata": {
  "kernelspec": {
   "display_name": "Python 3",
   "language": "python",
   "name": "python3"
  },
  "language_info": {
   "codemirror_mode": {
    "name": "ipython",
    "version": 3
   },
   "file_extension": ".py",
   "mimetype": "text/x-python",
   "name": "python",
   "nbconvert_exporter": "python",
   "pygments_lexer": "ipython3",
   "version": "3.6.5"
  }
 },
 "nbformat": 4,
 "nbformat_minor": 2
}
