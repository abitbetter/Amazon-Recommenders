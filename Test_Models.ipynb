{
 "cells": [
  {
   "cell_type": "code",
   "execution_count": null,
   "metadata": {},
   "outputs": [],
   "source": [
    "import pandas as pd\n",
    "import Memory_Collaborative_Filtering as mem\n",
    "import sqlite3 as sql\n",
    "import sklearn \n",
    "from sklearn.neighbors import NearestNeighbors\n",
    "from scipy.sparse import csr_matrix\n",
    "import pickle\n",
    "import sqlite3 as sql"
   ]
  },
  {
   "cell_type": "code",
   "execution_count": null,
   "metadata": {},
   "outputs": [],
   "source": [
    "wrangled_path = 'C:/Users/arjun/Dropbox/Georgetown Data Science -- Team Amazon/wrangled_amazon_data.db'"
   ]
  },
  {
   "cell_type": "code",
   "execution_count": null,
   "metadata": {},
   "outputs": [],
   "source": [
    "wrangled_data = mem.import_wrangled_data(wrangled_path)"
   ]
  },
  {
   "cell_type": "code",
   "execution_count": null,
   "metadata": {},
   "outputs": [],
   "source": [
    "wrangled_data['star_rating'] = wrangled_data['star_rating'].astype(int)\n",
    "wrangled_review_data = wrangled_review_data.dropna()\n",
    "wrangled_review_data = wrangled_review_data.drop_duplicates()\n",
    "wrangled_review_data = wrangled_review_data.reset_index(drop=True)"
   ]
  },
  {
   "cell_type": "code",
   "execution_count": null,
   "metadata": {},
   "outputs": [],
   "source": [
    "product_features = pd.concat([wrangled_review_data[['star_rating']], \n",
    "                              wrangled_review_data[['helpful_votes']],\n",
    "                              wrangled_review_data[['review_length']],\n",
    "                              pd.get_dummies(wrangled_review_data[['author']])\n",
    "                              ], axis=1)"
   ]
  },
  {
   "cell_type": "code",
   "execution_count": null,
   "metadata": {},
   "outputs": [],
   "source": [
    "nbrs = NearestNeighbors(n_neighbors=6, algorithm = 'ball_tree').fit(product_features)"
   ]
  },
  {
   "cell_type": "code",
   "execution_count": null,
   "metadata": {},
   "outputs": [],
   "source": [
    "distances2, indices2 = nbrs.kneighbors()"
   ]
  },
  {
   "cell_type": "code",
   "execution_count": null,
   "metadata": {},
   "outputs": [],
   "source": [
    "def get_index_from_name(name, review_data):\n",
    "    return review_data[review_data[\"product_title\"]==name].index.tolist()[0]"
   ]
  },
  {
   "cell_type": "code",
   "execution_count": null,
   "metadata": {},
   "outputs": [],
   "source": [
    "def print_similar_books(review_data, distance_matrix, index_matric, query=None,id=None, model=None):\n",
    "    if id:\n",
    "        for id in indices2[id][1:]:\n",
    "            print(review_data.iloc[id][\"product_title\"])\n",
    "    if query:\n",
    "        found_id = get_index_from_name(query, review_data)\n",
    "        counter=0\n",
    "        for id in indices2[found_id][1:]:\n",
    "            print(review_data.iloc[id][\"product_title\"])"
   ]
  },
  {
   "cell_type": "code",
   "execution_count": null,
   "metadata": {},
   "outputs": [],
   "source": [
    "for book in test_recs['product_title']:\n",
    "    print(book + \" recommendations:\")\n",
    "    print_similar_books(wrangled_review_data, distances2, indices2, query=book, model=nbrs)"
   ]
  },
  {
   "cell_type": "code",
   "execution_count": null,
   "metadata": {},
   "outputs": [],
   "source": [
    "print_similar_books(wrangled_review_data, distances2, indices2, query=\"Trial Run (Fault Lines)\", model=nbrs)"
   ]
  }
 ],
 "metadata": {
  "kernelspec": {
   "display_name": "Python 3",
   "language": "python",
   "name": "python3"
  },
  "language_info": {
   "codemirror_mode": {
    "name": "ipython",
    "version": 3
   },
   "file_extension": ".py",
   "mimetype": "text/x-python",
   "name": "python",
   "nbconvert_exporter": "python",
   "pygments_lexer": "ipython3",
   "version": "3.6.5"
  }
 },
 "nbformat": 4,
 "nbformat_minor": 2
}
