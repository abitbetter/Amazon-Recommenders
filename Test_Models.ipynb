{
 "cells": [
  {
   "cell_type": "code",
   "execution_count": 1,
   "metadata": {},
   "outputs": [],
   "source": [
    "import pandas as pd\n",
    "import numpy as np\n",
    "import os\n",
    "import Memory_Collaborative_Filtering as mem\n",
    "import sqlite3 as sql\n",
    "import sklearn \n",
    "from sklearn.neighbors import NearestNeighbors\n",
    "from scipy.sparse import csr_matrix"
   ]
  },
  {
   "cell_type": "code",
   "execution_count": 2,
   "metadata": {},
   "outputs": [],
   "source": [
    "path = 'C:/Users/arjun/Desktop/amazon.db'\n",
    "path2 = 'C:/Users/arjun/OneDrive/Desktop/frequency_rankings.db'"
   ]
  },
  {
   "cell_type": "code",
   "execution_count": null,
   "metadata": {},
   "outputs": [],
   "source": [
    "user_counts = mem.import_user_frequency_data(path2)"
   ]
  },
  {
   "cell_type": "code",
   "execution_count": null,
   "metadata": {},
   "outputs": [],
   "source": [
    "user_counts_top_1000 = user_counts.loc[user_counts['counts'] > 32]"
   ]
  },
  {
   "cell_type": "code",
   "execution_count": null,
   "metadata": {},
   "outputs": [],
   "source": [
    "product_counts = mem.import_product_frequency_data(path2)"
   ]
  },
  {
   "cell_type": "code",
   "execution_count": null,
   "metadata": {},
   "outputs": [],
   "source": [
    "product_count_top_1000 = product_counts.loc[product_counts['counts'] >= 58]"
   ]
  },
  {
   "cell_type": "code",
   "execution_count": null,
   "metadata": {},
   "outputs": [],
   "source": [
    "test = product_counts.sort_values(by=['counts'], ascending=False)\n",
    "test2 = user_counts.sort_values(by=['counts'], ascending=False)"
   ]
  },
  {
   "cell_type": "code",
   "execution_count": 3,
   "metadata": {},
   "outputs": [],
   "source": [
    "review_data = mem.import_standard_data(path)"
   ]
  },
  {
   "cell_type": "code",
   "execution_count": 4,
   "metadata": {},
   "outputs": [],
   "source": [
    "review_data = review_data.drop_duplicates(['customer_id', 'product_id'])\n",
    "review_data['star_rating'] = review_data['star_rating'].astype(int)\n",
    "review_data_pivot = review_data.pivot(index = 'product_id', columns = 'customer_id', values = 'star_rating').fillna(0)\n",
    "review_data_matrix = csr_matrix(review_data_pivot.values)"
   ]
  },
  {
   "cell_type": "code",
   "execution_count": 5,
   "metadata": {},
   "outputs": [
    {
     "data": {
      "text/plain": [
       "NearestNeighbors(algorithm='brute', leaf_size=30, metric='cosine',\n",
       "         metric_params=None, n_jobs=1, n_neighbors=5, p=2, radius=1.0)"
      ]
     },
     "execution_count": 5,
     "metadata": {},
     "output_type": "execute_result"
    }
   ],
   "source": [
    "model_knn = NearestNeighbors(metric = 'cosine', algorithm = 'brute')\n",
    "model_knn.fit(review_data_matrix)"
   ]
  },
  {
   "cell_type": "code",
   "execution_count": 22,
   "metadata": {},
   "outputs": [
    {
     "name": "stdout",
     "output_type": "stream",
     "text": [
      "9253\n"
     ]
    }
   ],
   "source": [
    "query_index = review_data_pivot[1:].shape[0]\n",
    "print(query_index)"
   ]
  },
  {
   "cell_type": "code",
   "execution_count": 23,
   "metadata": {},
   "outputs": [
    {
     "name": "stdout",
     "output_type": "stream",
     "text": [
      "Recommendations for B00MPREWL4:\n",
      "\n",
      "1: 0515154113, with distance of 0.5648058601107555:\n",
      "2: 1416549595, with distance of 0.5917517095361371:\n",
      "3: 1455577847, with distance of 0.5917517095361371:\n",
      "4: 0385739176, with distance of 0.7113248654051871:\n"
     ]
    }
   ],
   "source": [
    "distances, indices = model_knn.kneighbors(review_data_pivot.iloc[[query_index]], n_neighbors = 5)\n",
    "\n",
    "for i in range(0, len(distances.flatten())):\n",
    "    if i == 0:\n",
    "        print('Recommendations for {0}:\\n'.format(review_data_pivot.index[query_index]))\n",
    "    else:\n",
    "        print('{0}: {1}, with distance of {2}:'.format(i, review_data_pivot.index[indices.flatten()[i]], distances.flatten()[i]))"
   ]
  }
 ],
 "metadata": {
  "kernelspec": {
   "display_name": "Python 3",
   "language": "python",
   "name": "python3"
  },
  "language_info": {
   "codemirror_mode": {
    "name": "ipython",
    "version": 3
   },
   "file_extension": ".py",
   "mimetype": "text/x-python",
   "name": "python",
   "nbconvert_exporter": "python",
   "pygments_lexer": "ipython3",
   "version": "3.6.5"
  }
 },
 "nbformat": 4,
 "nbformat_minor": 2
}
